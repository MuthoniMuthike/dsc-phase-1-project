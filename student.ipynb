{
 "cells": [
  {
   "cell_type": "markdown",
   "metadata": {},
   "source": [
    "## Final Project Submission\n",
    "\n",
    "Please fill out:\n",
    "* Student name: JOYCE MUTHONI MUTHIKE\n",
    "* Student pace: PART TIME \n",
    "* Scheduled project review date/time: 16/04/2023\n",
    "* Instructor name: EVERLYNE ASIKO\n",
    "* Blog post URL:\n"
   ]
  },
  {
   "attachments": {},
   "cell_type": "markdown",
   "metadata": {},
   "source": [
    "# PHASE 1 PROJECT\n",
    "\n",
    "# Project Overview\n",
    "This project aims to analyze box office data to provide actionable insights for Microsoft's new movie studio on what types of films to create and how to maximize revenue.\n",
    "\n",
    "# Business Problem\n",
    "Microsoft sees all the big companies creating original video content and they want to get in on the fun. They have decided to create a new movie studio, but they do not know anything about creating movies. This project seeks to explore the types of films that are currently doing the best at the box office and translate these findings into actionable insights that the head of Microsoft's new movie studio will use to help decide what type of films to create and how to maximize revenue.\n",
    "\n",
    "\n",
    "# The Data\n",
    "The findings of this project will be derived from the analysis of the below datasets:\n",
    "\n",
    "\n",
    "   'bom.movie_gross.csv.gz'\n",
    "   \n",
    "   'tn.movie_budgets.csv.gz'\n",
    "   \n",
    "   'tmdb.movies.csv.gz'\n",
    "   \n",
    "   'rt.reviews.tsv.gz'\n",
    "   \n",
    "   'rt.movie_info.tsv.gz'\n",
    "   \n",
    "   'im.db'\n",
    "   \n",
    "# Project Objectives\n",
    "\n",
    "1. Identifying the most successful studios based on domestic and/or international gross.\n",
    "2. Identifying which genres tend to have higher domestic and/or international gross.\n",
    "3. Identifying the correlation between film production cost and it's box office success.\n",
    "4. Investigating the relationship between ratings & reviews and box office success.\n",
    "\n",
    "   \n",
    "# Getting started\n",
    "   "
   ]
  },
  {
   "cell_type": "code",
   "execution_count": 1,
   "metadata": {},
   "outputs": [],
   "source": [
    "# importing libraries using relevant alias\n",
    "import pandas as pd\n",
    "import csv \n",
    "import sqlite3\n",
    "import numpy as np\n",
    "import matplotlib.pyplot as plt\n",
    "%matplotlib inline"
   ]
  },
  {
   "cell_type": "markdown",
   "metadata": {},
   "source": [
    "# Loading the data"
   ]
  },
  {
   "cell_type": "code",
   "execution_count": 2,
   "metadata": {},
   "outputs": [
    {
     "data": {
      "text/html": [
       "<div>\n",
       "<style scoped>\n",
       "    .dataframe tbody tr th:only-of-type {\n",
       "        vertical-align: middle;\n",
       "    }\n",
       "\n",
       "    .dataframe tbody tr th {\n",
       "        vertical-align: top;\n",
       "    }\n",
       "\n",
       "    .dataframe thead th {\n",
       "        text-align: right;\n",
       "    }\n",
       "</style>\n",
       "<table border=\"1\" class=\"dataframe\">\n",
       "  <thead>\n",
       "    <tr style=\"text-align: right;\">\n",
       "      <th></th>\n",
       "      <th>title</th>\n",
       "      <th>studio</th>\n",
       "      <th>domestic_gross</th>\n",
       "      <th>foreign_gross</th>\n",
       "      <th>year</th>\n",
       "    </tr>\n",
       "  </thead>\n",
       "  <tbody>\n",
       "    <tr>\n",
       "      <th>0</th>\n",
       "      <td>Toy Story 3</td>\n",
       "      <td>BV</td>\n",
       "      <td>415000000.0</td>\n",
       "      <td>652000000</td>\n",
       "      <td>2010</td>\n",
       "    </tr>\n",
       "    <tr>\n",
       "      <th>1</th>\n",
       "      <td>Alice in Wonderland (2010)</td>\n",
       "      <td>BV</td>\n",
       "      <td>334200000.0</td>\n",
       "      <td>691300000</td>\n",
       "      <td>2010</td>\n",
       "    </tr>\n",
       "    <tr>\n",
       "      <th>2</th>\n",
       "      <td>Harry Potter and the Deathly Hallows Part 1</td>\n",
       "      <td>WB</td>\n",
       "      <td>296000000.0</td>\n",
       "      <td>664300000</td>\n",
       "      <td>2010</td>\n",
       "    </tr>\n",
       "    <tr>\n",
       "      <th>3</th>\n",
       "      <td>Inception</td>\n",
       "      <td>WB</td>\n",
       "      <td>292600000.0</td>\n",
       "      <td>535700000</td>\n",
       "      <td>2010</td>\n",
       "    </tr>\n",
       "    <tr>\n",
       "      <th>4</th>\n",
       "      <td>Shrek Forever After</td>\n",
       "      <td>P/DW</td>\n",
       "      <td>238700000.0</td>\n",
       "      <td>513900000</td>\n",
       "      <td>2010</td>\n",
       "    </tr>\n",
       "  </tbody>\n",
       "</table>\n",
       "</div>"
      ],
      "text/plain": [
       "                                         title studio  domestic_gross  \\\n",
       "0                                  Toy Story 3     BV     415000000.0   \n",
       "1                   Alice in Wonderland (2010)     BV     334200000.0   \n",
       "2  Harry Potter and the Deathly Hallows Part 1     WB     296000000.0   \n",
       "3                                    Inception     WB     292600000.0   \n",
       "4                          Shrek Forever After   P/DW     238700000.0   \n",
       "\n",
       "  foreign_gross  year  \n",
       "0     652000000  2010  \n",
       "1     691300000  2010  \n",
       "2     664300000  2010  \n",
       "3     535700000  2010  \n",
       "4     513900000  2010  "
      ]
     },
     "execution_count": 2,
     "metadata": {},
     "output_type": "execute_result"
    }
   ],
   "source": [
    "# Loading 'bom.movie_gross.csv.gz' as a DataFrame\n",
    "bom_df = pd.read_csv('ZippedData/bom.movie_gross.csv.gz')\n",
    "# Displaying the first five rows of bom_df\n",
    "bom_df.head()"
   ]
  },
  {
   "cell_type": "code",
   "execution_count": 3,
   "metadata": {
    "scrolled": true
   },
   "outputs": [
    {
     "data": {
      "text/html": [
       "<div>\n",
       "<style scoped>\n",
       "    .dataframe tbody tr th:only-of-type {\n",
       "        vertical-align: middle;\n",
       "    }\n",
       "\n",
       "    .dataframe tbody tr th {\n",
       "        vertical-align: top;\n",
       "    }\n",
       "\n",
       "    .dataframe thead th {\n",
       "        text-align: right;\n",
       "    }\n",
       "</style>\n",
       "<table border=\"1\" class=\"dataframe\">\n",
       "  <thead>\n",
       "    <tr style=\"text-align: right;\">\n",
       "      <th></th>\n",
       "      <th>release_date</th>\n",
       "      <th>movie</th>\n",
       "      <th>production_budget</th>\n",
       "      <th>domestic_gross</th>\n",
       "      <th>worldwide_gross</th>\n",
       "    </tr>\n",
       "    <tr>\n",
       "      <th>id</th>\n",
       "      <th></th>\n",
       "      <th></th>\n",
       "      <th></th>\n",
       "      <th></th>\n",
       "      <th></th>\n",
       "    </tr>\n",
       "  </thead>\n",
       "  <tbody>\n",
       "    <tr>\n",
       "      <th>1</th>\n",
       "      <td>Dec 18, 2009</td>\n",
       "      <td>Avatar</td>\n",
       "      <td>$425,000,000</td>\n",
       "      <td>$760,507,625</td>\n",
       "      <td>$2,776,345,279</td>\n",
       "    </tr>\n",
       "    <tr>\n",
       "      <th>2</th>\n",
       "      <td>May 20, 2011</td>\n",
       "      <td>Pirates of the Caribbean: On Stranger Tides</td>\n",
       "      <td>$410,600,000</td>\n",
       "      <td>$241,063,875</td>\n",
       "      <td>$1,045,663,875</td>\n",
       "    </tr>\n",
       "    <tr>\n",
       "      <th>3</th>\n",
       "      <td>Jun 7, 2019</td>\n",
       "      <td>Dark Phoenix</td>\n",
       "      <td>$350,000,000</td>\n",
       "      <td>$42,762,350</td>\n",
       "      <td>$149,762,350</td>\n",
       "    </tr>\n",
       "    <tr>\n",
       "      <th>4</th>\n",
       "      <td>May 1, 2015</td>\n",
       "      <td>Avengers: Age of Ultron</td>\n",
       "      <td>$330,600,000</td>\n",
       "      <td>$459,005,868</td>\n",
       "      <td>$1,403,013,963</td>\n",
       "    </tr>\n",
       "    <tr>\n",
       "      <th>5</th>\n",
       "      <td>Dec 15, 2017</td>\n",
       "      <td>Star Wars Ep. VIII: The Last Jedi</td>\n",
       "      <td>$317,000,000</td>\n",
       "      <td>$620,181,382</td>\n",
       "      <td>$1,316,721,747</td>\n",
       "    </tr>\n",
       "  </tbody>\n",
       "</table>\n",
       "</div>"
      ],
      "text/plain": [
       "    release_date                                        movie  \\\n",
       "id                                                              \n",
       "1   Dec 18, 2009                                       Avatar   \n",
       "2   May 20, 2011  Pirates of the Caribbean: On Stranger Tides   \n",
       "3    Jun 7, 2019                                 Dark Phoenix   \n",
       "4    May 1, 2015                      Avengers: Age of Ultron   \n",
       "5   Dec 15, 2017            Star Wars Ep. VIII: The Last Jedi   \n",
       "\n",
       "   production_budget domestic_gross worldwide_gross  \n",
       "id                                                   \n",
       "1       $425,000,000   $760,507,625  $2,776,345,279  \n",
       "2       $410,600,000   $241,063,875  $1,045,663,875  \n",
       "3       $350,000,000    $42,762,350    $149,762,350  \n",
       "4       $330,600,000   $459,005,868  $1,403,013,963  \n",
       "5       $317,000,000   $620,181,382  $1,316,721,747  "
      ]
     },
     "execution_count": 3,
     "metadata": {},
     "output_type": "execute_result"
    }
   ],
   "source": [
    "# Loading 'tn_movie_budgets_df' as a dataframe\n",
    "budgets_df = pd.read_csv('ZippedData/tn.movie_budgets.csv.gz', index_col=0)\n",
    "budgets_df.head()"
   ]
  },
  {
   "cell_type": "code",
   "execution_count": 4,
   "metadata": {},
   "outputs": [
    {
     "data": {
      "text/html": [
       "<div>\n",
       "<style scoped>\n",
       "    .dataframe tbody tr th:only-of-type {\n",
       "        vertical-align: middle;\n",
       "    }\n",
       "\n",
       "    .dataframe tbody tr th {\n",
       "        vertical-align: top;\n",
       "    }\n",
       "\n",
       "    .dataframe thead th {\n",
       "        text-align: right;\n",
       "    }\n",
       "</style>\n",
       "<table border=\"1\" class=\"dataframe\">\n",
       "  <thead>\n",
       "    <tr style=\"text-align: right;\">\n",
       "      <th></th>\n",
       "      <th>genre_ids</th>\n",
       "      <th>id</th>\n",
       "      <th>original_language</th>\n",
       "      <th>original_title</th>\n",
       "      <th>popularity</th>\n",
       "      <th>release_date</th>\n",
       "      <th>title</th>\n",
       "      <th>vote_average</th>\n",
       "      <th>vote_count</th>\n",
       "    </tr>\n",
       "  </thead>\n",
       "  <tbody>\n",
       "    <tr>\n",
       "      <th>0</th>\n",
       "      <td>[12, 14, 10751]</td>\n",
       "      <td>12444</td>\n",
       "      <td>en</td>\n",
       "      <td>Harry Potter and the Deathly Hallows: Part 1</td>\n",
       "      <td>33.533</td>\n",
       "      <td>2010-11-19</td>\n",
       "      <td>Harry Potter and the Deathly Hallows: Part 1</td>\n",
       "      <td>7.7</td>\n",
       "      <td>10788</td>\n",
       "    </tr>\n",
       "    <tr>\n",
       "      <th>1</th>\n",
       "      <td>[14, 12, 16, 10751]</td>\n",
       "      <td>10191</td>\n",
       "      <td>en</td>\n",
       "      <td>How to Train Your Dragon</td>\n",
       "      <td>28.734</td>\n",
       "      <td>2010-03-26</td>\n",
       "      <td>How to Train Your Dragon</td>\n",
       "      <td>7.7</td>\n",
       "      <td>7610</td>\n",
       "    </tr>\n",
       "    <tr>\n",
       "      <th>2</th>\n",
       "      <td>[12, 28, 878]</td>\n",
       "      <td>10138</td>\n",
       "      <td>en</td>\n",
       "      <td>Iron Man 2</td>\n",
       "      <td>28.515</td>\n",
       "      <td>2010-05-07</td>\n",
       "      <td>Iron Man 2</td>\n",
       "      <td>6.8</td>\n",
       "      <td>12368</td>\n",
       "    </tr>\n",
       "    <tr>\n",
       "      <th>3</th>\n",
       "      <td>[16, 35, 10751]</td>\n",
       "      <td>862</td>\n",
       "      <td>en</td>\n",
       "      <td>Toy Story</td>\n",
       "      <td>28.005</td>\n",
       "      <td>1995-11-22</td>\n",
       "      <td>Toy Story</td>\n",
       "      <td>7.9</td>\n",
       "      <td>10174</td>\n",
       "    </tr>\n",
       "    <tr>\n",
       "      <th>4</th>\n",
       "      <td>[28, 878, 12]</td>\n",
       "      <td>27205</td>\n",
       "      <td>en</td>\n",
       "      <td>Inception</td>\n",
       "      <td>27.920</td>\n",
       "      <td>2010-07-16</td>\n",
       "      <td>Inception</td>\n",
       "      <td>8.3</td>\n",
       "      <td>22186</td>\n",
       "    </tr>\n",
       "  </tbody>\n",
       "</table>\n",
       "</div>"
      ],
      "text/plain": [
       "             genre_ids     id original_language  \\\n",
       "0      [12, 14, 10751]  12444                en   \n",
       "1  [14, 12, 16, 10751]  10191                en   \n",
       "2        [12, 28, 878]  10138                en   \n",
       "3      [16, 35, 10751]    862                en   \n",
       "4        [28, 878, 12]  27205                en   \n",
       "\n",
       "                                 original_title  popularity release_date  \\\n",
       "0  Harry Potter and the Deathly Hallows: Part 1      33.533   2010-11-19   \n",
       "1                      How to Train Your Dragon      28.734   2010-03-26   \n",
       "2                                    Iron Man 2      28.515   2010-05-07   \n",
       "3                                     Toy Story      28.005   1995-11-22   \n",
       "4                                     Inception      27.920   2010-07-16   \n",
       "\n",
       "                                          title  vote_average  vote_count  \n",
       "0  Harry Potter and the Deathly Hallows: Part 1           7.7       10788  \n",
       "1                      How to Train Your Dragon           7.7        7610  \n",
       "2                                    Iron Man 2           6.8       12368  \n",
       "3                                     Toy Story           7.9       10174  \n",
       "4                                     Inception           8.3       22186  "
      ]
     },
     "execution_count": 4,
     "metadata": {},
     "output_type": "execute_result"
    }
   ],
   "source": [
    "# Loading 'tmdb.movies.csv.gz' as a dataframe\n",
    "movies_df = pd.read_csv('ZippedData/tmdb.movies.csv.gz', index_col=0)\n",
    "movies_df.head()"
   ]
  },
  {
   "cell_type": "code",
   "execution_count": 5,
   "metadata": {},
   "outputs": [
    {
     "data": {
      "text/html": [
       "<div>\n",
       "<style scoped>\n",
       "    .dataframe tbody tr th:only-of-type {\n",
       "        vertical-align: middle;\n",
       "    }\n",
       "\n",
       "    .dataframe tbody tr th {\n",
       "        vertical-align: top;\n",
       "    }\n",
       "\n",
       "    .dataframe thead th {\n",
       "        text-align: right;\n",
       "    }\n",
       "</style>\n",
       "<table border=\"1\" class=\"dataframe\">\n",
       "  <thead>\n",
       "    <tr style=\"text-align: right;\">\n",
       "      <th></th>\n",
       "      <th>review</th>\n",
       "      <th>rating</th>\n",
       "      <th>fresh</th>\n",
       "      <th>critic</th>\n",
       "      <th>top_critic</th>\n",
       "      <th>publisher</th>\n",
       "      <th>date</th>\n",
       "    </tr>\n",
       "    <tr>\n",
       "      <th>id</th>\n",
       "      <th></th>\n",
       "      <th></th>\n",
       "      <th></th>\n",
       "      <th></th>\n",
       "      <th></th>\n",
       "      <th></th>\n",
       "      <th></th>\n",
       "    </tr>\n",
       "  </thead>\n",
       "  <tbody>\n",
       "    <tr>\n",
       "      <th>3</th>\n",
       "      <td>A distinctly gallows take on contemporary fina...</td>\n",
       "      <td>3/5</td>\n",
       "      <td>fresh</td>\n",
       "      <td>PJ Nabarro</td>\n",
       "      <td>0</td>\n",
       "      <td>Patrick Nabarro</td>\n",
       "      <td>November 10, 2018</td>\n",
       "    </tr>\n",
       "    <tr>\n",
       "      <th>3</th>\n",
       "      <td>It's an allegory in search of a meaning that n...</td>\n",
       "      <td>NaN</td>\n",
       "      <td>rotten</td>\n",
       "      <td>Annalee Newitz</td>\n",
       "      <td>0</td>\n",
       "      <td>io9.com</td>\n",
       "      <td>May 23, 2018</td>\n",
       "    </tr>\n",
       "    <tr>\n",
       "      <th>3</th>\n",
       "      <td>... life lived in a bubble in financial dealin...</td>\n",
       "      <td>NaN</td>\n",
       "      <td>fresh</td>\n",
       "      <td>Sean Axmaker</td>\n",
       "      <td>0</td>\n",
       "      <td>Stream on Demand</td>\n",
       "      <td>January 4, 2018</td>\n",
       "    </tr>\n",
       "    <tr>\n",
       "      <th>3</th>\n",
       "      <td>Continuing along a line introduced in last yea...</td>\n",
       "      <td>NaN</td>\n",
       "      <td>fresh</td>\n",
       "      <td>Daniel Kasman</td>\n",
       "      <td>0</td>\n",
       "      <td>MUBI</td>\n",
       "      <td>November 16, 2017</td>\n",
       "    </tr>\n",
       "    <tr>\n",
       "      <th>3</th>\n",
       "      <td>... a perverse twist on neorealism...</td>\n",
       "      <td>NaN</td>\n",
       "      <td>fresh</td>\n",
       "      <td>NaN</td>\n",
       "      <td>0</td>\n",
       "      <td>Cinema Scope</td>\n",
       "      <td>October 12, 2017</td>\n",
       "    </tr>\n",
       "  </tbody>\n",
       "</table>\n",
       "</div>"
      ],
      "text/plain": [
       "                                               review rating   fresh  \\\n",
       "id                                                                     \n",
       "3   A distinctly gallows take on contemporary fina...    3/5   fresh   \n",
       "3   It's an allegory in search of a meaning that n...    NaN  rotten   \n",
       "3   ... life lived in a bubble in financial dealin...    NaN   fresh   \n",
       "3   Continuing along a line introduced in last yea...    NaN   fresh   \n",
       "3              ... a perverse twist on neorealism...     NaN   fresh   \n",
       "\n",
       "            critic  top_critic         publisher               date  \n",
       "id                                                                   \n",
       "3       PJ Nabarro           0   Patrick Nabarro  November 10, 2018  \n",
       "3   Annalee Newitz           0           io9.com       May 23, 2018  \n",
       "3     Sean Axmaker           0  Stream on Demand    January 4, 2018  \n",
       "3    Daniel Kasman           0              MUBI  November 16, 2017  \n",
       "3              NaN           0      Cinema Scope   October 12, 2017  "
      ]
     },
     "execution_count": 5,
     "metadata": {},
     "output_type": "execute_result"
    }
   ],
   "source": [
    "# Loading 'rt.reviews.tsv.gz' as a dataframe\n",
    "rt_reviews_df = pd.read_csv('ZippedData/rt.reviews.tsv.gz', delimiter='\\t', encoding='unicode_escape', index_col=0)\n",
    "rt_reviews_df.head()"
   ]
  },
  {
   "cell_type": "code",
   "execution_count": 6,
   "metadata": {},
   "outputs": [
    {
     "data": {
      "text/html": [
       "<div>\n",
       "<style scoped>\n",
       "    .dataframe tbody tr th:only-of-type {\n",
       "        vertical-align: middle;\n",
       "    }\n",
       "\n",
       "    .dataframe tbody tr th {\n",
       "        vertical-align: top;\n",
       "    }\n",
       "\n",
       "    .dataframe thead th {\n",
       "        text-align: right;\n",
       "    }\n",
       "</style>\n",
       "<table border=\"1\" class=\"dataframe\">\n",
       "  <thead>\n",
       "    <tr style=\"text-align: right;\">\n",
       "      <th></th>\n",
       "      <th>synopsis</th>\n",
       "      <th>rating</th>\n",
       "      <th>genre</th>\n",
       "      <th>director</th>\n",
       "      <th>writer</th>\n",
       "      <th>theater_date</th>\n",
       "      <th>dvd_date</th>\n",
       "      <th>currency</th>\n",
       "      <th>box_office</th>\n",
       "      <th>runtime</th>\n",
       "      <th>studio</th>\n",
       "    </tr>\n",
       "    <tr>\n",
       "      <th>id</th>\n",
       "      <th></th>\n",
       "      <th></th>\n",
       "      <th></th>\n",
       "      <th></th>\n",
       "      <th></th>\n",
       "      <th></th>\n",
       "      <th></th>\n",
       "      <th></th>\n",
       "      <th></th>\n",
       "      <th></th>\n",
       "      <th></th>\n",
       "    </tr>\n",
       "  </thead>\n",
       "  <tbody>\n",
       "    <tr>\n",
       "      <th>1</th>\n",
       "      <td>This gritty, fast-paced, and innovative police...</td>\n",
       "      <td>R</td>\n",
       "      <td>Action and Adventure|Classics|Drama</td>\n",
       "      <td>William Friedkin</td>\n",
       "      <td>Ernest Tidyman</td>\n",
       "      <td>Oct 9, 1971</td>\n",
       "      <td>Sep 25, 2001</td>\n",
       "      <td>NaN</td>\n",
       "      <td>NaN</td>\n",
       "      <td>104 minutes</td>\n",
       "      <td>NaN</td>\n",
       "    </tr>\n",
       "    <tr>\n",
       "      <th>3</th>\n",
       "      <td>New York City, not-too-distant-future: Eric Pa...</td>\n",
       "      <td>R</td>\n",
       "      <td>Drama|Science Fiction and Fantasy</td>\n",
       "      <td>David Cronenberg</td>\n",
       "      <td>David Cronenberg|Don DeLillo</td>\n",
       "      <td>Aug 17, 2012</td>\n",
       "      <td>Jan 1, 2013</td>\n",
       "      <td>$</td>\n",
       "      <td>600,000</td>\n",
       "      <td>108 minutes</td>\n",
       "      <td>Entertainment One</td>\n",
       "    </tr>\n",
       "    <tr>\n",
       "      <th>5</th>\n",
       "      <td>Illeana Douglas delivers a superb performance ...</td>\n",
       "      <td>R</td>\n",
       "      <td>Drama|Musical and Performing Arts</td>\n",
       "      <td>Allison Anders</td>\n",
       "      <td>Allison Anders</td>\n",
       "      <td>Sep 13, 1996</td>\n",
       "      <td>Apr 18, 2000</td>\n",
       "      <td>NaN</td>\n",
       "      <td>NaN</td>\n",
       "      <td>116 minutes</td>\n",
       "      <td>NaN</td>\n",
       "    </tr>\n",
       "    <tr>\n",
       "      <th>6</th>\n",
       "      <td>Michael Douglas runs afoul of a treacherous su...</td>\n",
       "      <td>R</td>\n",
       "      <td>Drama|Mystery and Suspense</td>\n",
       "      <td>Barry Levinson</td>\n",
       "      <td>Paul Attanasio|Michael Crichton</td>\n",
       "      <td>Dec 9, 1994</td>\n",
       "      <td>Aug 27, 1997</td>\n",
       "      <td>NaN</td>\n",
       "      <td>NaN</td>\n",
       "      <td>128 minutes</td>\n",
       "      <td>NaN</td>\n",
       "    </tr>\n",
       "    <tr>\n",
       "      <th>7</th>\n",
       "      <td>NaN</td>\n",
       "      <td>NR</td>\n",
       "      <td>Drama|Romance</td>\n",
       "      <td>Rodney Bennett</td>\n",
       "      <td>Giles Cooper</td>\n",
       "      <td>NaN</td>\n",
       "      <td>NaN</td>\n",
       "      <td>NaN</td>\n",
       "      <td>NaN</td>\n",
       "      <td>200 minutes</td>\n",
       "      <td>NaN</td>\n",
       "    </tr>\n",
       "  </tbody>\n",
       "</table>\n",
       "</div>"
      ],
      "text/plain": [
       "                                             synopsis rating  \\\n",
       "id                                                             \n",
       "1   This gritty, fast-paced, and innovative police...      R   \n",
       "3   New York City, not-too-distant-future: Eric Pa...      R   \n",
       "5   Illeana Douglas delivers a superb performance ...      R   \n",
       "6   Michael Douglas runs afoul of a treacherous su...      R   \n",
       "7                                                 NaN     NR   \n",
       "\n",
       "                                  genre          director  \\\n",
       "id                                                          \n",
       "1   Action and Adventure|Classics|Drama  William Friedkin   \n",
       "3     Drama|Science Fiction and Fantasy  David Cronenberg   \n",
       "5     Drama|Musical and Performing Arts    Allison Anders   \n",
       "6            Drama|Mystery and Suspense    Barry Levinson   \n",
       "7                         Drama|Romance    Rodney Bennett   \n",
       "\n",
       "                             writer  theater_date      dvd_date currency  \\\n",
       "id                                                                         \n",
       "1                    Ernest Tidyman   Oct 9, 1971  Sep 25, 2001      NaN   \n",
       "3      David Cronenberg|Don DeLillo  Aug 17, 2012   Jan 1, 2013        $   \n",
       "5                    Allison Anders  Sep 13, 1996  Apr 18, 2000      NaN   \n",
       "6   Paul Attanasio|Michael Crichton   Dec 9, 1994  Aug 27, 1997      NaN   \n",
       "7                      Giles Cooper           NaN           NaN      NaN   \n",
       "\n",
       "   box_office      runtime             studio  \n",
       "id                                             \n",
       "1         NaN  104 minutes                NaN  \n",
       "3     600,000  108 minutes  Entertainment One  \n",
       "5         NaN  116 minutes                NaN  \n",
       "6         NaN  128 minutes                NaN  \n",
       "7         NaN  200 minutes                NaN  "
      ]
     },
     "execution_count": 6,
     "metadata": {},
     "output_type": "execute_result"
    }
   ],
   "source": [
    "#Loading 'rt.movie_info.tsv.gz' as a dataframe\n",
    "movie_info_df = pd.read_csv('ZippedData/rt.movie_info.tsv.gz', delimiter='\\t', index_col=0)\n",
    "movie_info_df.head()"
   ]
  },
  {
   "cell_type": "code",
   "execution_count": 7,
   "metadata": {},
   "outputs": [
    {
     "data": {
      "text/plain": [
       "[('movie_basics',),\n",
       " ('directors',),\n",
       " ('known_for',),\n",
       " ('movie_akas',),\n",
       " ('movie_ratings',),\n",
       " ('persons',),\n",
       " ('principals',),\n",
       " ('writers',)]"
      ]
     },
     "execution_count": 7,
     "metadata": {},
     "output_type": "execute_result"
    }
   ],
   "source": [
    "# Viewing the list of tables on the im.db database\n",
    "\n",
    "# Connecting to the database\n",
    "conn = sqlite3.connect('zippedData/im.db/im.db')\n",
    "\n",
    "# Creating a cursor object to execute SQL commands\n",
    "cur = conn.cursor()\n",
    "\n",
    "# Execute the query for finding table names\n",
    "cur.execute(\"SELECT name FROM sqlite_master WHERE type='table';\")\n",
    "\n",
    "# Fetch the result and store it in table_names\n",
    "table_names = cur.fetchall()\n",
    "table_names"
   ]
  },
  {
   "cell_type": "markdown",
   "metadata": {},
   "source": [
    "# Exploring the data\n",
    "**Lets explore bom_df data...**"
   ]
  },
  {
   "cell_type": "code",
   "execution_count": 8,
   "metadata": {},
   "outputs": [
    {
     "name": "stdout",
     "output_type": "stream",
     "text": [
      "<class 'pandas.core.frame.DataFrame'>\n",
      "RangeIndex: 3387 entries, 0 to 3386\n",
      "Data columns (total 5 columns):\n",
      " #   Column          Non-Null Count  Dtype  \n",
      "---  ------          --------------  -----  \n",
      " 0   title           3387 non-null   object \n",
      " 1   studio          3382 non-null   object \n",
      " 2   domestic_gross  3359 non-null   float64\n",
      " 3   foreign_gross   2037 non-null   object \n",
      " 4   year            3387 non-null   int64  \n",
      "dtypes: float64(1), int64(1), object(3)\n",
      "memory usage: 132.4+ KB\n"
     ]
    }
   ],
   "source": [
    "# To get a concise summary of the bom_df data\n",
    "bom_df.info()"
   ]
  },
  {
   "cell_type": "code",
   "execution_count": 9,
   "metadata": {},
   "outputs": [
    {
     "data": {
      "text/plain": [
       "(3387, 5)"
      ]
     },
     "execution_count": 9,
     "metadata": {},
     "output_type": "execute_result"
    }
   ],
   "source": [
    "# to obtain a tuple representing the number of rows and number of columns.\n",
    "bom_df.shape"
   ]
  },
  {
   "cell_type": "code",
   "execution_count": 10,
   "metadata": {},
   "outputs": [
    {
     "data": {
      "text/plain": [
       "Index(['title', 'studio', 'domestic_gross', 'foreign_gross', 'year'], dtype='object')"
      ]
     },
     "execution_count": 10,
     "metadata": {},
     "output_type": "execute_result"
    }
   ],
   "source": [
    "# to get column names\n",
    "bom_df.columns"
   ]
  },
  {
   "cell_type": "code",
   "execution_count": 11,
   "metadata": {},
   "outputs": [
    {
     "data": {
      "text/plain": [
       "title                0\n",
       "studio               5\n",
       "domestic_gross      28\n",
       "foreign_gross     1350\n",
       "year                 0\n",
       "dtype: int64"
      ]
     },
     "execution_count": 11,
     "metadata": {},
     "output_type": "execute_result"
    }
   ],
   "source": [
    "# Checking for the missing values in each column\n",
    "bom_df.isna().sum()"
   ]
  },
  {
   "cell_type": "code",
   "execution_count": 12,
   "metadata": {},
   "outputs": [
    {
     "data": {
      "text/plain": [
       "0"
      ]
     },
     "execution_count": 12,
     "metadata": {},
     "output_type": "execute_result"
    }
   ],
   "source": [
    "#counting duplicated data\n",
    "bom_df.duplicated().sum() "
   ]
  },
  {
   "cell_type": "code",
   "execution_count": 13,
   "metadata": {},
   "outputs": [
    {
     "data": {
      "text/plain": [
       "'There are 3387 entries, but not all columns have the same number of non-null values.This means that there are some missing values in the dataset to be handled.\\nThe \"foreign_gross\" column has an object data type instead of a numeric data type. This will need to be converted before the final analysis.\\nThe \"year\" column only contains integers, which may make it difficult to analyze trends over time by quarter or monthly. There is need to create a new column with a more specific date format to analyze temporal trends closely.\\n'"
      ]
     },
     "execution_count": 13,
     "metadata": {},
     "output_type": "execute_result"
    }
   ],
   "source": [
    "# Discovered incosistencies with the data\n",
    "\"\"\"There are 3387 entries, but not all columns have the same number of non-null values.This means that there are some missing values in the dataset to be handled.\n",
    "The \"foreign_gross\" column has an object data type instead of a numeric data type. This will need to be converted before the final analysis.\n",
    "The \"year\" column only contains integers, which may make it difficult to analyze trends over time by quarter or monthly. There is need to create a new column with a more specific date format to analyze temporal trends closely.\n",
    "\"\"\""
   ]
  },
  {
   "cell_type": "markdown",
   "metadata": {},
   "source": [
    "**Lets explore budgets_df data...**"
   ]
  },
  {
   "cell_type": "code",
   "execution_count": 14,
   "metadata": {},
   "outputs": [
    {
     "name": "stdout",
     "output_type": "stream",
     "text": [
      "<class 'pandas.core.frame.DataFrame'>\n",
      "Int64Index: 5782 entries, 1 to 82\n",
      "Data columns (total 5 columns):\n",
      " #   Column             Non-Null Count  Dtype \n",
      "---  ------             --------------  ----- \n",
      " 0   release_date       5782 non-null   object\n",
      " 1   movie              5782 non-null   object\n",
      " 2   production_budget  5782 non-null   object\n",
      " 3   domestic_gross     5782 non-null   object\n",
      " 4   worldwide_gross    5782 non-null   object\n",
      "dtypes: object(5)\n",
      "memory usage: 271.0+ KB\n"
     ]
    }
   ],
   "source": [
    "budgets_df.info()"
   ]
  },
  {
   "cell_type": "code",
   "execution_count": 15,
   "metadata": {},
   "outputs": [
    {
     "data": {
      "text/plain": [
       "(5782, 5)"
      ]
     },
     "execution_count": 15,
     "metadata": {},
     "output_type": "execute_result"
    }
   ],
   "source": [
    "budgets_df.shape"
   ]
  },
  {
   "cell_type": "code",
   "execution_count": 16,
   "metadata": {},
   "outputs": [
    {
     "data": {
      "text/plain": [
       "Index(['release_date', 'movie', 'production_budget', 'domestic_gross',\n",
       "       'worldwide_gross'],\n",
       "      dtype='object')"
      ]
     },
     "execution_count": 16,
     "metadata": {},
     "output_type": "execute_result"
    }
   ],
   "source": [
    "budgets_df.columns"
   ]
  },
  {
   "cell_type": "code",
   "execution_count": 17,
   "metadata": {},
   "outputs": [
    {
     "data": {
      "text/plain": [
       "release_date         0\n",
       "movie                0\n",
       "production_budget    0\n",
       "domestic_gross       0\n",
       "worldwide_gross      0\n",
       "dtype: int64"
      ]
     },
     "execution_count": 17,
     "metadata": {},
     "output_type": "execute_result"
    }
   ],
   "source": [
    "# Checking for the missing values in each column\n",
    "budgets_df.isna().sum()"
   ]
  },
  {
   "cell_type": "code",
   "execution_count": 18,
   "metadata": {},
   "outputs": [
    {
     "data": {
      "text/plain": [
       "0"
      ]
     },
     "execution_count": 18,
     "metadata": {},
     "output_type": "execute_result"
    }
   ],
   "source": [
    "#counting duplicated data\n",
    "budgets_df.duplicated().sum() "
   ]
  },
  {
   "cell_type": "code",
   "execution_count": 19,
   "metadata": {},
   "outputs": [
    {
     "data": {
      "text/plain": [
       "'The data types for the columns production_budget, domestic_gross, and worldwide_gross are object instead of numeric types like float or int. \\nThis suggests that the format of the values in these columns need to be cleaned before they can be used for analysis.\\nThe release date should also be converted to datetime format.\\n'"
      ]
     },
     "execution_count": 19,
     "metadata": {},
     "output_type": "execute_result"
    }
   ],
   "source": [
    "# Discovered incosistencies with the data\n",
    "\"\"\"The data types for the columns production_budget, domestic_gross, and worldwide_gross are object instead of numeric types like float or int. \n",
    "This suggests that the format of the values in these columns need to be cleaned before they can be used for analysis.\n",
    "The release date should also be converted to datetime format.\n",
    "\"\"\""
   ]
  },
  {
   "cell_type": "markdown",
   "metadata": {},
   "source": [
    "**Let's explore movies_df data...**"
   ]
  },
  {
   "cell_type": "code",
   "execution_count": 20,
   "metadata": {},
   "outputs": [
    {
     "name": "stdout",
     "output_type": "stream",
     "text": [
      "<class 'pandas.core.frame.DataFrame'>\n",
      "Int64Index: 26517 entries, 0 to 26516\n",
      "Data columns (total 9 columns):\n",
      " #   Column             Non-Null Count  Dtype  \n",
      "---  ------             --------------  -----  \n",
      " 0   genre_ids          26517 non-null  object \n",
      " 1   id                 26517 non-null  int64  \n",
      " 2   original_language  26517 non-null  object \n",
      " 3   original_title     26517 non-null  object \n",
      " 4   popularity         26517 non-null  float64\n",
      " 5   release_date       26517 non-null  object \n",
      " 6   title              26517 non-null  object \n",
      " 7   vote_average       26517 non-null  float64\n",
      " 8   vote_count         26517 non-null  int64  \n",
      "dtypes: float64(2), int64(2), object(5)\n",
      "memory usage: 2.0+ MB\n"
     ]
    }
   ],
   "source": [
    "movies_df.info()"
   ]
  },
  {
   "cell_type": "code",
   "execution_count": 21,
   "metadata": {},
   "outputs": [
    {
     "data": {
      "text/plain": [
       "(26517, 9)"
      ]
     },
     "execution_count": 21,
     "metadata": {},
     "output_type": "execute_result"
    }
   ],
   "source": [
    "movies_df.shape"
   ]
  },
  {
   "cell_type": "code",
   "execution_count": 22,
   "metadata": {},
   "outputs": [
    {
     "data": {
      "text/plain": [
       "Index(['genre_ids', 'id', 'original_language', 'original_title', 'popularity',\n",
       "       'release_date', 'title', 'vote_average', 'vote_count'],\n",
       "      dtype='object')"
      ]
     },
     "execution_count": 22,
     "metadata": {},
     "output_type": "execute_result"
    }
   ],
   "source": [
    "movies_df.columns"
   ]
  },
  {
   "cell_type": "code",
   "execution_count": 23,
   "metadata": {},
   "outputs": [
    {
     "data": {
      "text/plain": [
       "genre_ids            0\n",
       "id                   0\n",
       "original_language    0\n",
       "original_title       0\n",
       "popularity           0\n",
       "release_date         0\n",
       "title                0\n",
       "vote_average         0\n",
       "vote_count           0\n",
       "dtype: int64"
      ]
     },
     "execution_count": 23,
     "metadata": {},
     "output_type": "execute_result"
    }
   ],
   "source": [
    "#Checking for the missing values in each column\n",
    "movies_df.isna().sum()"
   ]
  },
  {
   "cell_type": "code",
   "execution_count": 24,
   "metadata": {},
   "outputs": [
    {
     "data": {
      "text/plain": [
       "1020"
      ]
     },
     "execution_count": 24,
     "metadata": {},
     "output_type": "execute_result"
    }
   ],
   "source": [
    "#counting duplicated data\n",
    "movies_df.duplicated().sum() "
   ]
  },
  {
   "cell_type": "code",
   "execution_count": 25,
   "metadata": {},
   "outputs": [
    {
     "data": {
      "text/plain": [
       "'There are 1020 duplicated columns in the movies_df dataset.\\n'"
      ]
     },
     "execution_count": 25,
     "metadata": {},
     "output_type": "execute_result"
    }
   ],
   "source": [
    "# Discovered incosistencies with the data\n",
    "\"\"\"There are 1020 duplicated columns in the movies_df dataset.\n",
    "\"\"\""
   ]
  },
  {
   "cell_type": "markdown",
   "metadata": {},
   "source": [
    "**Let's explore rt_reviews_df data...**"
   ]
  },
  {
   "cell_type": "code",
   "execution_count": 26,
   "metadata": {},
   "outputs": [
    {
     "name": "stdout",
     "output_type": "stream",
     "text": [
      "<class 'pandas.core.frame.DataFrame'>\n",
      "Int64Index: 54432 entries, 3 to 2000\n",
      "Data columns (total 7 columns):\n",
      " #   Column      Non-Null Count  Dtype \n",
      "---  ------      --------------  ----- \n",
      " 0   review      48869 non-null  object\n",
      " 1   rating      40915 non-null  object\n",
      " 2   fresh       54432 non-null  object\n",
      " 3   critic      51710 non-null  object\n",
      " 4   top_critic  54432 non-null  int64 \n",
      " 5   publisher   54123 non-null  object\n",
      " 6   date        54432 non-null  object\n",
      "dtypes: int64(1), object(6)\n",
      "memory usage: 3.3+ MB\n"
     ]
    }
   ],
   "source": [
    "rt_reviews_df.info()"
   ]
  },
  {
   "cell_type": "code",
   "execution_count": 27,
   "metadata": {},
   "outputs": [
    {
     "data": {
      "text/plain": [
       "(54432, 7)"
      ]
     },
     "execution_count": 27,
     "metadata": {},
     "output_type": "execute_result"
    }
   ],
   "source": [
    "rt_reviews_df.shape"
   ]
  },
  {
   "cell_type": "code",
   "execution_count": 28,
   "metadata": {},
   "outputs": [
    {
     "data": {
      "text/plain": [
       "Index(['review', 'rating', 'fresh', 'critic', 'top_critic', 'publisher',\n",
       "       'date'],\n",
       "      dtype='object')"
      ]
     },
     "execution_count": 28,
     "metadata": {},
     "output_type": "execute_result"
    }
   ],
   "source": [
    "rt_reviews_df.columns"
   ]
  },
  {
   "cell_type": "code",
   "execution_count": 29,
   "metadata": {},
   "outputs": [
    {
     "data": {
      "text/plain": [
       "review         5563\n",
       "rating        13517\n",
       "fresh             0\n",
       "critic         2722\n",
       "top_critic        0\n",
       "publisher       309\n",
       "date              0\n",
       "dtype: int64"
      ]
     },
     "execution_count": 29,
     "metadata": {},
     "output_type": "execute_result"
    }
   ],
   "source": [
    "#Checking for the sum of missing values in each column\n",
    "rt_reviews_df.isna().sum()"
   ]
  },
  {
   "cell_type": "code",
   "execution_count": 30,
   "metadata": {},
   "outputs": [
    {
     "name": "stdout",
     "output_type": "stream",
     "text": [
      "review        10.220091\n",
      "rating        24.832819\n",
      "fresh          0.000000\n",
      "critic         5.000735\n",
      "top_critic     0.000000\n",
      "publisher      0.567681\n",
      "date           0.000000\n",
      "dtype: float64\n"
     ]
    }
   ],
   "source": [
    "# Calculating the percentage of missing values in each column\n",
    "\n",
    "# Calculate the fraction of missing values in each column\n",
    "missing_fraction = rt_reviews_df.isna().mean()\n",
    "\n",
    "missing_percent = 100 * missing_fraction\n",
    "print(missing_percent)"
   ]
  },
  {
   "cell_type": "code",
   "execution_count": 31,
   "metadata": {},
   "outputs": [
    {
     "data": {
      "text/plain": [
       "2123"
      ]
     },
     "execution_count": 31,
     "metadata": {},
     "output_type": "execute_result"
    }
   ],
   "source": [
    "#counting duplicated data\n",
    "rt_reviews_df.duplicated().sum() "
   ]
  },
  {
   "cell_type": "code",
   "execution_count": 32,
   "metadata": {},
   "outputs": [
    {
     "data": {
      "text/plain": [
       "\"There are missing values in the review, rating, critic, and publisher columns.\\nThe 'fresh' column is of type object instead of a boolean data type.\\nThe 'top_critic' column is of type int64 instead of a boolean data type.\\nThe 'date' column is of type object instead of a datetime data type.\\nThere are 2123 duplicated rows\\n\""
      ]
     },
     "execution_count": 32,
     "metadata": {},
     "output_type": "execute_result"
    }
   ],
   "source": [
    "# Discovered incosistencies with the data\n",
    "\"\"\"There are missing values in the review, rating, critic, and publisher columns.\n",
    "The 'fresh' column is of type object instead of a boolean data type.\n",
    "The 'top_critic' column is of type int64 instead of a boolean data type.\n",
    "The 'date' column is of type object instead of a datetime data type.\n",
    "There are 2123 duplicated rows\n",
    "\"\"\""
   ]
  },
  {
   "cell_type": "markdown",
   "metadata": {},
   "source": [
    "**Let's explore movie_info_df data...**"
   ]
  },
  {
   "cell_type": "code",
   "execution_count": 33,
   "metadata": {},
   "outputs": [
    {
     "name": "stdout",
     "output_type": "stream",
     "text": [
      "<class 'pandas.core.frame.DataFrame'>\n",
      "Int64Index: 1560 entries, 1 to 2000\n",
      "Data columns (total 11 columns):\n",
      " #   Column        Non-Null Count  Dtype \n",
      "---  ------        --------------  ----- \n",
      " 0   synopsis      1498 non-null   object\n",
      " 1   rating        1557 non-null   object\n",
      " 2   genre         1552 non-null   object\n",
      " 3   director      1361 non-null   object\n",
      " 4   writer        1111 non-null   object\n",
      " 5   theater_date  1201 non-null   object\n",
      " 6   dvd_date      1201 non-null   object\n",
      " 7   currency      340 non-null    object\n",
      " 8   box_office    340 non-null    object\n",
      " 9   runtime       1530 non-null   object\n",
      " 10  studio        494 non-null    object\n",
      "dtypes: object(11)\n",
      "memory usage: 146.2+ KB\n"
     ]
    }
   ],
   "source": [
    "movie_info_df.info()"
   ]
  },
  {
   "cell_type": "code",
   "execution_count": 34,
   "metadata": {},
   "outputs": [
    {
     "data": {
      "text/plain": [
       "(1560, 11)"
      ]
     },
     "execution_count": 34,
     "metadata": {},
     "output_type": "execute_result"
    }
   ],
   "source": [
    "movie_info_df.shape"
   ]
  },
  {
   "cell_type": "code",
   "execution_count": 35,
   "metadata": {},
   "outputs": [
    {
     "data": {
      "text/plain": [
       "Index(['synopsis', 'rating', 'genre', 'director', 'writer', 'theater_date',\n",
       "       'dvd_date', 'currency', 'box_office', 'runtime', 'studio'],\n",
       "      dtype='object')"
      ]
     },
     "execution_count": 35,
     "metadata": {},
     "output_type": "execute_result"
    }
   ],
   "source": [
    "movie_info_df.columns"
   ]
  },
  {
   "cell_type": "code",
   "execution_count": 36,
   "metadata": {},
   "outputs": [
    {
     "data": {
      "text/plain": [
       "synopsis          62\n",
       "rating             3\n",
       "genre              8\n",
       "director         199\n",
       "writer           449\n",
       "theater_date     359\n",
       "dvd_date         359\n",
       "currency        1220\n",
       "box_office      1220\n",
       "runtime           30\n",
       "studio          1066\n",
       "dtype: int64"
      ]
     },
     "execution_count": 36,
     "metadata": {},
     "output_type": "execute_result"
    }
   ],
   "source": [
    "#Checking for the sum of missing values in each column\n",
    "movie_info_df.isna().sum()"
   ]
  },
  {
   "cell_type": "code",
   "execution_count": 37,
   "metadata": {
    "scrolled": true
   },
   "outputs": [
    {
     "name": "stdout",
     "output_type": "stream",
     "text": [
      "synopsis         3.974359\n",
      "rating           0.192308\n",
      "genre            0.512821\n",
      "director        12.756410\n",
      "writer          28.782051\n",
      "theater_date    23.012821\n",
      "dvd_date        23.012821\n",
      "currency        78.205128\n",
      "box_office      78.205128\n",
      "runtime          1.923077\n",
      "studio          68.333333\n",
      "dtype: float64\n"
     ]
    }
   ],
   "source": [
    "# Calculating the percentage of missing values in each column\n",
    "\n",
    "# Calculate the fraction of missing values in each column\n",
    "missing_fraction = movie_info_df.isna().mean()\n",
    "missing_percent = 100 * missing_fraction\n",
    "print(missing_percent)"
   ]
  },
  {
   "cell_type": "code",
   "execution_count": 38,
   "metadata": {},
   "outputs": [
    {
     "data": {
      "text/plain": [
       "4"
      ]
     },
     "execution_count": 38,
     "metadata": {},
     "output_type": "execute_result"
    }
   ],
   "source": [
    "movie_info_df.duplicated().sum()"
   ]
  },
  {
   "cell_type": "code",
   "execution_count": 39,
   "metadata": {},
   "outputs": [
    {
     "data": {
      "text/plain": [
       "\"There are missing values in all columns with extreme missing values in 'currency', 'box_office' and 'studio' columns. \\nThe 'theater_date' and 'dvd_date' columns are of type 'object' instead of 'datetime'.\\nThe 'box_office' column is of type 'object' instead of 'int' or 'float'.\\nThe 'runtime' column is of type 'object' instead of 'int' or 'float'\\nThere are 4 duplicated rows.\\n\""
      ]
     },
     "execution_count": 39,
     "metadata": {},
     "output_type": "execute_result"
    }
   ],
   "source": [
    "#Discovered inconsistences\n",
    "\"\"\"There are missing values in all columns with extreme missing values in 'currency', 'box_office' and 'studio' columns. \n",
    "The 'theater_date' and 'dvd_date' columns are of type 'object' instead of 'datetime'.\n",
    "The 'box_office' column is of type 'object' instead of 'int' or 'float'.\n",
    "The 'runtime' column is of type 'object' instead of 'int' or 'float'\n",
    "There are 4 duplicated rows.\n",
    "\"\"\""
   ]
  },
  {
   "cell_type": "markdown",
   "metadata": {},
   "source": [
    "# Next, I did some data cleaning:\n",
    " **Cleaning the bom_df data...**\n",
    "\n",
    "I decided to drop the foreign_gross column since  a large sum of the values were missing and may not have provided much useful information for the analysis.\n",
    "\n",
    "I replaced the rows in domestic_gross where the domestic_gross column had missing values.\n",
    "\n",
    "I dropped the rows in studio where the studio column had missing values.\n",
    "\n",
    "Finally, I created a new column with a more specific date format:"
   ]
  },
  {
   "cell_type": "code",
   "execution_count": 40,
   "metadata": {},
   "outputs": [],
   "source": [
    "# dropping the 'foreign_gross' column\n",
    "bom_df.drop('foreign_gross', axis=1, inplace=True)"
   ]
  },
  {
   "cell_type": "code",
   "execution_count": 41,
   "metadata": {},
   "outputs": [
    {
     "data": {
      "text/plain": [
       "Index(['title', 'studio', 'domestic_gross', 'year'], dtype='object')"
      ]
     },
     "execution_count": 41,
     "metadata": {},
     "output_type": "execute_result"
    }
   ],
   "source": [
    "#rechecking the columns\n",
    "bom_df.columns"
   ]
  },
  {
   "cell_type": "code",
   "execution_count": 42,
   "metadata": {},
   "outputs": [],
   "source": [
    "# Calculating the median value of the 'domestic_gross' column\n",
    "median = bom_df['domestic_gross'].median()\n",
    "\n",
    "# Filling missing values with the median value\n",
    "bom_df['domestic_gross'].fillna(median, inplace=True)"
   ]
  },
  {
   "cell_type": "code",
   "execution_count": 43,
   "metadata": {},
   "outputs": [],
   "source": [
    "# dropping rows of the 'studio' column with missing values\n",
    "bom_df.dropna(subset=['studio'], inplace=True)"
   ]
  },
  {
   "cell_type": "code",
   "execution_count": 44,
   "metadata": {},
   "outputs": [
    {
     "data": {
      "text/plain": [
       "title             0\n",
       "studio            0\n",
       "domestic_gross    0\n",
       "year              0\n",
       "dtype: int64"
      ]
     },
     "execution_count": 44,
     "metadata": {},
     "output_type": "execute_result"
    }
   ],
   "source": [
    "# Rechecking for missing values in each column\n",
    "bom_df.isna().sum()"
   ]
  },
  {
   "cell_type": "code",
   "execution_count": 45,
   "metadata": {},
   "outputs": [
    {
     "data": {
      "text/html": [
       "<div>\n",
       "<style scoped>\n",
       "    .dataframe tbody tr th:only-of-type {\n",
       "        vertical-align: middle;\n",
       "    }\n",
       "\n",
       "    .dataframe tbody tr th {\n",
       "        vertical-align: top;\n",
       "    }\n",
       "\n",
       "    .dataframe thead th {\n",
       "        text-align: right;\n",
       "    }\n",
       "</style>\n",
       "<table border=\"1\" class=\"dataframe\">\n",
       "  <thead>\n",
       "    <tr style=\"text-align: right;\">\n",
       "      <th></th>\n",
       "      <th>title</th>\n",
       "      <th>studio</th>\n",
       "      <th>domestic_gross</th>\n",
       "      <th>year</th>\n",
       "      <th>date</th>\n",
       "    </tr>\n",
       "  </thead>\n",
       "  <tbody>\n",
       "    <tr>\n",
       "      <th>0</th>\n",
       "      <td>Toy Story 3</td>\n",
       "      <td>BV</td>\n",
       "      <td>415000000.0</td>\n",
       "      <td>2010</td>\n",
       "      <td>2010-09-12</td>\n",
       "    </tr>\n",
       "    <tr>\n",
       "      <th>1</th>\n",
       "      <td>Alice in Wonderland (2010)</td>\n",
       "      <td>BV</td>\n",
       "      <td>334200000.0</td>\n",
       "      <td>2010</td>\n",
       "      <td>2010-09-03</td>\n",
       "    </tr>\n",
       "    <tr>\n",
       "      <th>2</th>\n",
       "      <td>Harry Potter and the Deathly Hallows Part 1</td>\n",
       "      <td>WB</td>\n",
       "      <td>296000000.0</td>\n",
       "      <td>2010</td>\n",
       "      <td>2010-12-24</td>\n",
       "    </tr>\n",
       "    <tr>\n",
       "      <th>3</th>\n",
       "      <td>Inception</td>\n",
       "      <td>WB</td>\n",
       "      <td>292600000.0</td>\n",
       "      <td>2010</td>\n",
       "      <td>2010-03-09</td>\n",
       "    </tr>\n",
       "    <tr>\n",
       "      <th>4</th>\n",
       "      <td>Shrek Forever After</td>\n",
       "      <td>P/DW</td>\n",
       "      <td>238700000.0</td>\n",
       "      <td>2010</td>\n",
       "      <td>2010-11-06</td>\n",
       "    </tr>\n",
       "  </tbody>\n",
       "</table>\n",
       "</div>"
      ],
      "text/plain": [
       "                                         title studio  domestic_gross  year  \\\n",
       "0                                  Toy Story 3     BV     415000000.0  2010   \n",
       "1                   Alice in Wonderland (2010)     BV     334200000.0  2010   \n",
       "2  Harry Potter and the Deathly Hallows Part 1     WB     296000000.0  2010   \n",
       "3                                    Inception     WB     292600000.0  2010   \n",
       "4                          Shrek Forever After   P/DW     238700000.0  2010   \n",
       "\n",
       "        date  \n",
       "0 2010-09-12  \n",
       "1 2010-09-03  \n",
       "2 2010-12-24  \n",
       "3 2010-03-09  \n",
       "4 2010-11-06  "
      ]
     },
     "execution_count": 45,
     "metadata": {},
     "output_type": "execute_result"
    }
   ],
   "source": [
    "# Creating a new column with a more specific date format\n",
    "import random\n",
    "from datetime import datetime, timedelta\n",
    "\n",
    "def random_date(year):\n",
    "    \"\"\"\n",
    "    Generate a random date for a given year.\n",
    "    \"\"\"\n",
    "    start_date = datetime(year=year, month=1, day=1)\n",
    "    end_date = datetime(year=year, month=12, day=31)\n",
    "    delta = end_date - start_date\n",
    "    days = random.randint(0, delta.days)\n",
    "    return start_date + timedelta(days=days)\n",
    "\n",
    "bom_df['date'] = bom_df['year'].apply(lambda x: random_date(x))\n",
    "bom_df.head()"
   ]
  },
  {
   "cell_type": "code",
   "execution_count": 46,
   "metadata": {},
   "outputs": [
    {
     "name": "stdout",
     "output_type": "stream",
     "text": [
      "<class 'pandas.core.frame.DataFrame'>\n",
      "Int64Index: 3382 entries, 0 to 3386\n",
      "Data columns (total 5 columns):\n",
      " #   Column          Non-Null Count  Dtype         \n",
      "---  ------          --------------  -----         \n",
      " 0   title           3382 non-null   object        \n",
      " 1   studio          3382 non-null   object        \n",
      " 2   domestic_gross  3382 non-null   float64       \n",
      " 3   year            3382 non-null   int64         \n",
      " 4   date            3382 non-null   datetime64[ns]\n",
      "dtypes: datetime64[ns](1), float64(1), int64(1), object(2)\n",
      "memory usage: 158.5+ KB\n"
     ]
    }
   ],
   "source": [
    "bom_df.info()"
   ]
  },
  {
   "cell_type": "markdown",
   "metadata": {},
   "source": [
    "**Cleaning the budgets_df data...**\n",
    "\n",
    "I coverted the datatypes of the production_budget, domestic_gross and worldwide_gross columns to a float and release_date column to a datetime format."
   ]
  },
  {
   "cell_type": "code",
   "execution_count": 47,
   "metadata": {},
   "outputs": [
    {
     "data": {
      "text/plain": [
       "release_date         datetime64[ns]\n",
       "movie                        object\n",
       "production_budget           float64\n",
       "domestic_gross              float64\n",
       "worldwide_gross             float64\n",
       "dtype: object"
      ]
     },
     "execution_count": 47,
     "metadata": {},
     "output_type": "execute_result"
    }
   ],
   "source": [
    "# Cleaning the data types\n",
    "budgets_df['production_budget'] = budgets_df['production_budget'].str.replace(',', '').str.replace('$', '').astype(float)\n",
    "budgets_df['domestic_gross'] = budgets_df['domestic_gross'].str.replace(',', '').str.replace('$', '').astype(float)\n",
    "budgets_df['worldwide_gross'] = budgets_df['worldwide_gross'].str.replace(',', '').str.replace('$', '').astype(float)\n",
    "budgets_df['release_date'] = pd.to_datetime(budgets_df['release_date'])\n",
    "\n",
    "# Check the data types after cleaning\n",
    "budgets_df.dtypes"
   ]
  },
  {
   "cell_type": "code",
   "execution_count": 48,
   "metadata": {},
   "outputs": [
    {
     "data": {
      "text/html": [
       "<div>\n",
       "<style scoped>\n",
       "    .dataframe tbody tr th:only-of-type {\n",
       "        vertical-align: middle;\n",
       "    }\n",
       "\n",
       "    .dataframe tbody tr th {\n",
       "        vertical-align: top;\n",
       "    }\n",
       "\n",
       "    .dataframe thead th {\n",
       "        text-align: right;\n",
       "    }\n",
       "</style>\n",
       "<table border=\"1\" class=\"dataframe\">\n",
       "  <thead>\n",
       "    <tr style=\"text-align: right;\">\n",
       "      <th></th>\n",
       "      <th>release_date</th>\n",
       "      <th>movie</th>\n",
       "      <th>production_budget</th>\n",
       "      <th>domestic_gross</th>\n",
       "      <th>worldwide_gross</th>\n",
       "    </tr>\n",
       "    <tr>\n",
       "      <th>id</th>\n",
       "      <th></th>\n",
       "      <th></th>\n",
       "      <th></th>\n",
       "      <th></th>\n",
       "      <th></th>\n",
       "    </tr>\n",
       "  </thead>\n",
       "  <tbody>\n",
       "    <tr>\n",
       "      <th>1</th>\n",
       "      <td>2009-12-18</td>\n",
       "      <td>Avatar</td>\n",
       "      <td>425000000.0</td>\n",
       "      <td>760507625.0</td>\n",
       "      <td>2.776345e+09</td>\n",
       "    </tr>\n",
       "    <tr>\n",
       "      <th>2</th>\n",
       "      <td>2011-05-20</td>\n",
       "      <td>Pirates of the Caribbean: On Stranger Tides</td>\n",
       "      <td>410600000.0</td>\n",
       "      <td>241063875.0</td>\n",
       "      <td>1.045664e+09</td>\n",
       "    </tr>\n",
       "    <tr>\n",
       "      <th>3</th>\n",
       "      <td>2019-06-07</td>\n",
       "      <td>Dark Phoenix</td>\n",
       "      <td>350000000.0</td>\n",
       "      <td>42762350.0</td>\n",
       "      <td>1.497624e+08</td>\n",
       "    </tr>\n",
       "    <tr>\n",
       "      <th>4</th>\n",
       "      <td>2015-05-01</td>\n",
       "      <td>Avengers: Age of Ultron</td>\n",
       "      <td>330600000.0</td>\n",
       "      <td>459005868.0</td>\n",
       "      <td>1.403014e+09</td>\n",
       "    </tr>\n",
       "    <tr>\n",
       "      <th>5</th>\n",
       "      <td>2017-12-15</td>\n",
       "      <td>Star Wars Ep. VIII: The Last Jedi</td>\n",
       "      <td>317000000.0</td>\n",
       "      <td>620181382.0</td>\n",
       "      <td>1.316722e+09</td>\n",
       "    </tr>\n",
       "  </tbody>\n",
       "</table>\n",
       "</div>"
      ],
      "text/plain": [
       "   release_date                                        movie  \\\n",
       "id                                                             \n",
       "1    2009-12-18                                       Avatar   \n",
       "2    2011-05-20  Pirates of the Caribbean: On Stranger Tides   \n",
       "3    2019-06-07                                 Dark Phoenix   \n",
       "4    2015-05-01                      Avengers: Age of Ultron   \n",
       "5    2017-12-15            Star Wars Ep. VIII: The Last Jedi   \n",
       "\n",
       "    production_budget  domestic_gross  worldwide_gross  \n",
       "id                                                      \n",
       "1         425000000.0     760507625.0     2.776345e+09  \n",
       "2         410600000.0     241063875.0     1.045664e+09  \n",
       "3         350000000.0      42762350.0     1.497624e+08  \n",
       "4         330600000.0     459005868.0     1.403014e+09  \n",
       "5         317000000.0     620181382.0     1.316722e+09  "
      ]
     },
     "execution_count": 48,
     "metadata": {},
     "output_type": "execute_result"
    }
   ],
   "source": [
    "#Rechecking the first five rows\n",
    "budgets_df.head()"
   ]
  },
  {
   "cell_type": "markdown",
   "metadata": {},
   "source": [
    "**Cleaning the rt_reviews_df data...**\n",
    "\n",
    "I decided to drop the missing rows in the 'rating' column because  the missing data was more than more than 20% of the total number of rows and replacing them could lead to biased data.\n",
    "\n",
    "I also dropped missing rows in the 'review' column because I felt more than 10% was also a large number and replacing them could also lead to biased data.\n",
    "\n",
    "I decided to fill in missing values in the 'critic' and 'publisher' column because my dataset had already been significantly reduced after dropping rows in the 'review' and 'rating' column. Also because with the percentage of missing values in these columns being 5% and below, it shows there are only a few missing values and filling in is the most viable option.\n",
    "\n",
    "I removed all duplicated rows from the DataFrame and modified it in place.\n",
    "\n",
    "I converted the datatpype of the 'fresh' and 'top_critic' columns into a boolean.\n",
    "\n",
    "Finally, I converted the datatype of the date column to a datetime datatype:"
   ]
  },
  {
   "cell_type": "code",
   "execution_count": 49,
   "metadata": {},
   "outputs": [],
   "source": [
    "# Dropping rows with missing values in the 'rating' column\n",
    "rt_reviews_df = rt_reviews_df.dropna(subset=['rating'])"
   ]
  },
  {
   "cell_type": "code",
   "execution_count": 50,
   "metadata": {},
   "outputs": [],
   "source": [
    "# Dropping rows with missing values in the 'review' column\n",
    "rt_reviews_df = rt_reviews_df.dropna(subset=['review'])"
   ]
  },
  {
   "cell_type": "code",
   "execution_count": 51,
   "metadata": {},
   "outputs": [],
   "source": [
    "# Filling in missing values with the string \"Unknown\" for 'critic' and 'publisher' column\n",
    "rt_reviews_df['critic'].fillna('Unknown', inplace=True)\n",
    "rt_reviews_df['publisher'].fillna('Unknown', inplace=True)"
   ]
  },
  {
   "cell_type": "code",
   "execution_count": 52,
   "metadata": {},
   "outputs": [
    {
     "data": {
      "text/plain": [
       "review        0\n",
       "rating        0\n",
       "fresh         0\n",
       "critic        0\n",
       "top_critic    0\n",
       "publisher     0\n",
       "date          0\n",
       "dtype: int64"
      ]
     },
     "execution_count": 52,
     "metadata": {},
     "output_type": "execute_result"
    }
   ],
   "source": [
    "#Rechecking for missing values\n",
    "rt_reviews_df.isna().sum()"
   ]
  },
  {
   "cell_type": "code",
   "execution_count": 53,
   "metadata": {},
   "outputs": [],
   "source": [
    "# Dropping the duplicated rows\n",
    "rt_reviews_df.drop_duplicates(inplace=True)"
   ]
  },
  {
   "cell_type": "code",
   "execution_count": 54,
   "metadata": {},
   "outputs": [
    {
     "data": {
      "text/plain": [
       "0"
      ]
     },
     "execution_count": 54,
     "metadata": {},
     "output_type": "execute_result"
    }
   ],
   "source": [
    "# Rechecking for duplicated rows\n",
    "rt_reviews_df.duplicated().sum() "
   ]
  },
  {
   "cell_type": "code",
   "execution_count": 55,
   "metadata": {},
   "outputs": [
    {
     "data": {
      "text/plain": [
       "(35294, 7)"
      ]
     },
     "execution_count": 55,
     "metadata": {},
     "output_type": "execute_result"
    }
   ],
   "source": [
    "rt_reviews_df.shape"
   ]
  },
  {
   "cell_type": "code",
   "execution_count": 56,
   "metadata": {},
   "outputs": [],
   "source": [
    "# Converting the'fresh' column into a boolean data type.\n",
    "rt_reviews_df['fresh'] = rt_reviews_df['fresh'].map({'fresh': True, 'rotten': False})"
   ]
  },
  {
   "cell_type": "code",
   "execution_count": 57,
   "metadata": {
    "scrolled": true
   },
   "outputs": [
    {
     "data": {
      "text/html": [
       "<div>\n",
       "<style scoped>\n",
       "    .dataframe tbody tr th:only-of-type {\n",
       "        vertical-align: middle;\n",
       "    }\n",
       "\n",
       "    .dataframe tbody tr th {\n",
       "        vertical-align: top;\n",
       "    }\n",
       "\n",
       "    .dataframe thead th {\n",
       "        text-align: right;\n",
       "    }\n",
       "</style>\n",
       "<table border=\"1\" class=\"dataframe\">\n",
       "  <thead>\n",
       "    <tr style=\"text-align: right;\">\n",
       "      <th></th>\n",
       "      <th>review</th>\n",
       "      <th>rating</th>\n",
       "      <th>fresh</th>\n",
       "      <th>critic</th>\n",
       "      <th>top_critic</th>\n",
       "      <th>publisher</th>\n",
       "      <th>date</th>\n",
       "    </tr>\n",
       "    <tr>\n",
       "      <th>id</th>\n",
       "      <th></th>\n",
       "      <th></th>\n",
       "      <th></th>\n",
       "      <th></th>\n",
       "      <th></th>\n",
       "      <th></th>\n",
       "      <th></th>\n",
       "    </tr>\n",
       "  </thead>\n",
       "  <tbody>\n",
       "    <tr>\n",
       "      <th>572</th>\n",
       "      <td>Like its star, the movie is loud, tactless and...</td>\n",
       "      <td>1/4</td>\n",
       "      <td>False</td>\n",
       "      <td>Josh Larsen</td>\n",
       "      <td>False</td>\n",
       "      <td>Sun Publications (Chicago, IL)</td>\n",
       "      <td>January 20, 2003</td>\n",
       "    </tr>\n",
       "    <tr>\n",
       "      <th>1207</th>\n",
       "      <td>Spiritual on the one hand and street tough on ...</td>\n",
       "      <td>3.5/5</td>\n",
       "      <td>True</td>\n",
       "      <td>Cherryl Dawson</td>\n",
       "      <td>False</td>\n",
       "      <td>TheMovieChicks.com</td>\n",
       "      <td>July 13, 2003</td>\n",
       "    </tr>\n",
       "    <tr>\n",
       "      <th>850</th>\n",
       "      <td>The weirdest and rarest misfire in Lee's illus...</td>\n",
       "      <td>C-</td>\n",
       "      <td>False</td>\n",
       "      <td>Joe McGovern</td>\n",
       "      <td>True</td>\n",
       "      <td>Entertainment Weekly</td>\n",
       "      <td>November 10, 2016</td>\n",
       "    </tr>\n",
       "    <tr>\n",
       "      <th>1325</th>\n",
       "      <td>There are a few entertaining and amusing momen...</td>\n",
       "      <td>2/5</td>\n",
       "      <td>False</td>\n",
       "      <td>Michelle Kisner</td>\n",
       "      <td>False</td>\n",
       "      <td>The Movie Sleuth</td>\n",
       "      <td>November 6, 2018</td>\n",
       "    </tr>\n",
       "    <tr>\n",
       "      <th>251</th>\n",
       "      <td>Despite its emotional inaccessibility and over...</td>\n",
       "      <td>3/5</td>\n",
       "      <td>True</td>\n",
       "      <td>Cameron Meier</td>\n",
       "      <td>False</td>\n",
       "      <td>Orlando Weekly</td>\n",
       "      <td>January 14, 2016</td>\n",
       "    </tr>\n",
       "    <tr>\n",
       "      <th>1601</th>\n",
       "      <td>full review at Movies for the Masses</td>\n",
       "      <td>3.5/5</td>\n",
       "      <td>True</td>\n",
       "      <td>Joseph Proimakis</td>\n",
       "      <td>False</td>\n",
       "      <td>Movies for the Masses</td>\n",
       "      <td>March 11, 2011</td>\n",
       "    </tr>\n",
       "    <tr>\n",
       "      <th>1995</th>\n",
       "      <td>It makes for a satisfying summer moviegoing ex...</td>\n",
       "      <td>3/4</td>\n",
       "      <td>True</td>\n",
       "      <td>Kevin N. Laforest</td>\n",
       "      <td>False</td>\n",
       "      <td>Montreal Film Journal</td>\n",
       "      <td>September 10, 2002</td>\n",
       "    </tr>\n",
       "    <tr>\n",
       "      <th>1292</th>\n",
       "      <td>Frances McDormand lets loose in a terrific new...</td>\n",
       "      <td>3/5</td>\n",
       "      <td>True</td>\n",
       "      <td>Marcy Dermansky</td>\n",
       "      <td>False</td>\n",
       "      <td>About.com</td>\n",
       "      <td>October 24, 2003</td>\n",
       "    </tr>\n",
       "    <tr>\n",
       "      <th>974</th>\n",
       "      <td>Capturing the changes a man goes through as he...</td>\n",
       "      <td>3.5/4</td>\n",
       "      <td>True</td>\n",
       "      <td>Unknown</td>\n",
       "      <td>False</td>\n",
       "      <td>TV Guide</td>\n",
       "      <td>March 9, 2009</td>\n",
       "    </tr>\n",
       "    <tr>\n",
       "      <th>760</th>\n",
       "      <td>A few bits of great physical comedy remain, as...</td>\n",
       "      <td>1.5/4</td>\n",
       "      <td>False</td>\n",
       "      <td>Stephen Whitty</td>\n",
       "      <td>True</td>\n",
       "      <td>Newark Star-Ledger</td>\n",
       "      <td>May 20, 2016</td>\n",
       "    </tr>\n",
       "  </tbody>\n",
       "</table>\n",
       "</div>"
      ],
      "text/plain": [
       "                                                 review rating  fresh  \\\n",
       "id                                                                      \n",
       "572   Like its star, the movie is loud, tactless and...    1/4  False   \n",
       "1207  Spiritual on the one hand and street tough on ...  3.5/5   True   \n",
       "850   The weirdest and rarest misfire in Lee's illus...     C-  False   \n",
       "1325  There are a few entertaining and amusing momen...    2/5  False   \n",
       "251   Despite its emotional inaccessibility and over...    3/5   True   \n",
       "1601               full review at Movies for the Masses  3.5/5   True   \n",
       "1995  It makes for a satisfying summer moviegoing ex...    3/4   True   \n",
       "1292  Frances McDormand lets loose in a terrific new...    3/5   True   \n",
       "974   Capturing the changes a man goes through as he...  3.5/4   True   \n",
       "760   A few bits of great physical comedy remain, as...  1.5/4  False   \n",
       "\n",
       "                 critic  top_critic                       publisher  \\\n",
       "id                                                                    \n",
       "572         Josh Larsen       False  Sun Publications (Chicago, IL)   \n",
       "1207     Cherryl Dawson       False              TheMovieChicks.com   \n",
       "850        Joe McGovern        True            Entertainment Weekly   \n",
       "1325    Michelle Kisner       False                The Movie Sleuth   \n",
       "251       Cameron Meier       False                  Orlando Weekly   \n",
       "1601   Joseph Proimakis       False           Movies for the Masses   \n",
       "1995  Kevin N. Laforest       False           Montreal Film Journal   \n",
       "1292    Marcy Dermansky       False                       About.com   \n",
       "974             Unknown       False                        TV Guide   \n",
       "760      Stephen Whitty        True              Newark Star-Ledger   \n",
       "\n",
       "                    date  \n",
       "id                        \n",
       "572     January 20, 2003  \n",
       "1207       July 13, 2003  \n",
       "850    November 10, 2016  \n",
       "1325    November 6, 2018  \n",
       "251     January 14, 2016  \n",
       "1601      March 11, 2011  \n",
       "1995  September 10, 2002  \n",
       "1292    October 24, 2003  \n",
       "974        March 9, 2009  \n",
       "760         May 20, 2016  "
      ]
     },
     "execution_count": 57,
     "metadata": {},
     "output_type": "execute_result"
    }
   ],
   "source": [
    "# Converting the 'top_critic' column into a boolean data type.\n",
    "rt_reviews_df['top_critic'] = rt_reviews_df['top_critic'].map({1 : True, 0 : False})\n",
    "rt_reviews_df.sample(10)"
   ]
  },
  {
   "cell_type": "code",
   "execution_count": 58,
   "metadata": {},
   "outputs": [
    {
     "data": {
      "text/plain": [
       "array(['3/5', 'C', '2/5', 'B-', '2/4', 'B', '3/4', '4/5', '4/4', '6/10',\n",
       "       '1/4', '8', '2.5/4', '4/10', '2.0/5', '3/10', '7/10', 'A-', '5/5',\n",
       "       'F', '3.5/4', 'D+', '1.5/4', '3.5/5', '8/10', 'B+', '9/10',\n",
       "       '2.5/5', '7.5/10', '5.5/10', 'C-', '1.5/5', '1/5', '5/10', 'C+',\n",
       "       '0/5', '6', '0.5/4', 'D', '3.1/5', '3/6', '0/4', '2/10', '7', '3',\n",
       "       'A+', 'A', '4.5/5', '4.0/4', '9.5/10', '2.5', '2.1/2', '6.5/10',\n",
       "       '3.7/5', '8.4/10', '9', '1', '7.2/10', '2.2/5', '0.5/10', '5', '0',\n",
       "       '2', '1/10', '4.5', '7.7', '5.0/5', '8.5/10', '3.0/5', '0.5/5',\n",
       "       '1.5/10', '3.0/4', '2.3/10', '4.5/10', '4/6', '3.5', '8.6/10',\n",
       "       '6/8', 'D-', '2.0/4', '2.7', '4.2/10', '5.8', '4', '7.1/10', 'N',\n",
       "       '3.5/10', '5.8/10', 'R', '4.0/5', '0/10', '5.0/10', '5.9/10',\n",
       "       '2.4/5', '1.9/5', '4.9', '7.4/10', '1.5', '2.3/4', '8.8/10',\n",
       "       '4.0/10', '2.2', '3.8/10', '6.8/10', '7.3', '7.0/10', '3.2', '4.2',\n",
       "       '8.4', '5.5/5', '6.3/10', '7.6/10', '8.1/10', '3.6/5', '2/6',\n",
       "       '7.7/10', '1.8', '8.9/10', '8.9', '8.2/10', '8.3/10', '2.6/6',\n",
       "       '4.1/10', '2.5/10', 'F+', '6.0/10', '1.0/4', '7.9/10', '8.7/10',\n",
       "       '4.3/10', '9.6/10', '9.0/10', '4.0', '1.7', '7.9', '6.7', '8.0/10',\n",
       "       '9.2/10', '5.2', '5.9', '3.7', '4.7', '6.2/10', '1/6', '8.2',\n",
       "       '2.6/5', '3.4', '9.7', '3.3/5', '3.8/5', '1/2', '7.4', '4.8',\n",
       "       '1.6/5', '2/2', '1-5', '1.0', '4.3/5', '5/6', '9.2', '2.7/5',\n",
       "       '4.9/10', '3.0', '3.1', '7.8/10', 'F-', '2.3/5', '3.0/10', '3/2',\n",
       "       '7.8', '4.2/5', '9.0', '7.3/10', '4.4/5', '6.9/10', '0/6', 'T',\n",
       "       '6.2', '3.3', '9.8', '8.5', '1.0/5', '4.1', '7.1', '3 1/2'],\n",
       "      dtype=object)"
      ]
     },
     "execution_count": 58,
     "metadata": {},
     "output_type": "execute_result"
    }
   ],
   "source": [
    "#Seeking to see 'rating' values\n",
    "rt_reviews_df['rating'].unique()"
   ]
  },
  {
   "cell_type": "code",
   "execution_count": 59,
   "metadata": {},
   "outputs": [],
   "source": [
    "# Converting 'date' column to datetime data type\n",
    "rt_reviews_df['date'] = pd.to_datetime(rt_reviews_df['date'])"
   ]
  },
  {
   "cell_type": "code",
   "execution_count": 60,
   "metadata": {},
   "outputs": [
    {
     "name": "stdout",
     "output_type": "stream",
     "text": [
      "<class 'pandas.core.frame.DataFrame'>\n",
      "Int64Index: 35294 entries, 3 to 2000\n",
      "Data columns (total 7 columns):\n",
      " #   Column      Non-Null Count  Dtype         \n",
      "---  ------      --------------  -----         \n",
      " 0   review      35294 non-null  object        \n",
      " 1   rating      35294 non-null  object        \n",
      " 2   fresh       35294 non-null  bool          \n",
      " 3   critic      35294 non-null  object        \n",
      " 4   top_critic  35294 non-null  bool          \n",
      " 5   publisher   35294 non-null  object        \n",
      " 6   date        35294 non-null  datetime64[ns]\n",
      "dtypes: bool(2), datetime64[ns](1), object(4)\n",
      "memory usage: 1.7+ MB\n"
     ]
    }
   ],
   "source": [
    "#Rechecking my data\n",
    "rt_reviews_df.info()"
   ]
  },
  {
   "cell_type": "markdown",
   "metadata": {},
   "source": [
    "**Cleaning the movie_info_df data...**\n",
    "\n",
    "With missing data being more than 60% of the total number of rows for the 'currency', 'box_office' and 'studio' columns, I decided to drop these three entire columns entirely.\n",
    "\n",
    "With missing data being more than 20% of the total number of rows in the 'writer', 'theater_date' and 'dvd_date ' columns, I decided to drop the rows with missing data in these respective columns.\n",
    "\n",
    "For missing data in the rest of the columns that was below 20% of the total number of rows, I decided to fill in the missing values.\n",
    "\n",
    "I also converted datatypes of 'runtime' into a float and 'theater_date' and 'dvd_date' columns' datatypes into the datetime format.\n",
    "\n",
    "Finally, I removed duplicated rows."
   ]
  },
  {
   "cell_type": "code",
   "execution_count": 61,
   "metadata": {},
   "outputs": [],
   "source": [
    "#Dropping  'currency', 'box_office' and 'studio' columns\n",
    "movie_info_df.drop(['currency', 'box_office', 'studio'], axis=1, inplace=True)"
   ]
  },
  {
   "cell_type": "code",
   "execution_count": 62,
   "metadata": {},
   "outputs": [
    {
     "data": {
      "text/plain": [
       "Index(['synopsis', 'rating', 'genre', 'director', 'writer', 'theater_date',\n",
       "       'dvd_date', 'runtime'],\n",
       "      dtype='object')"
      ]
     },
     "execution_count": 62,
     "metadata": {},
     "output_type": "execute_result"
    }
   ],
   "source": [
    "#Rechecking columns\n",
    "movie_info_df.columns"
   ]
  },
  {
   "cell_type": "code",
   "execution_count": 63,
   "metadata": {},
   "outputs": [],
   "source": [
    "#Dropping rows with missing data in the 'writer','theater_date' and 'dvd_date' columns\n",
    "movie_info_df.dropna(subset=['writer', 'theater_date', 'dvd_date'], inplace=True)"
   ]
  },
  {
   "cell_type": "code",
   "execution_count": 64,
   "metadata": {},
   "outputs": [],
   "source": [
    "# Filling in missing values with the string \"Unknown\" for  'synopsis'and 'director' columns\n",
    "movie_info_df['synopsis'].fillna('Unknown', inplace=True)\n",
    "movie_info_df['director'].fillna('Unknown', inplace=True)"
   ]
  },
  {
   "cell_type": "code",
   "execution_count": 65,
   "metadata": {},
   "outputs": [],
   "source": [
    "#Using forward fill (ffill) method to fill in missing values in 'runtime' column\n",
    "movie_info_df['runtime'].fillna(method='ffill', inplace=True)"
   ]
  },
  {
   "cell_type": "code",
   "execution_count": 66,
   "metadata": {},
   "outputs": [
    {
     "data": {
      "text/plain": [
       "array(['R', 'PG', 'PG-13', 'G', 'NR', 'NC17'], dtype=object)"
      ]
     },
     "execution_count": 66,
     "metadata": {},
     "output_type": "execute_result"
    }
   ],
   "source": [
    "#Seeking to see 'runtime' values\n",
    "movie_info_df['rating'].unique()"
   ]
  },
  {
   "cell_type": "code",
   "execution_count": 67,
   "metadata": {},
   "outputs": [],
   "source": [
    "# Using mode to fill in missing values in the 'rating' column\n",
    "\n",
    "mode_rating = movie_info_df['rating'].mode()[0] # getting the mode of the 'rating' column\n",
    "movie_info_df['rating'].fillna(mode_rating, inplace=True) # filling in missing values with the mode"
   ]
  },
  {
   "cell_type": "code",
   "execution_count": 68,
   "metadata": {},
   "outputs": [],
   "source": [
    "# Using mode to fill in missing values in the 'rating' column\n",
    "\n",
    "genre_mode = movie_info_df['genre'].mode()[0] # Calculating mode value of 'genre' column\n",
    "movie_info_df['genre'].fillna(genre_mode, inplace=True) # Filling in missing values with the mode value"
   ]
  },
  {
   "cell_type": "code",
   "execution_count": 69,
   "metadata": {
    "scrolled": true
   },
   "outputs": [
    {
     "data": {
      "text/plain": [
       "array(['104 minutes', '108 minutes', '116 minutes', '128 minutes',\n",
       "       '95 minutes', '82 minutes', '123 minutes', '117 minutes',\n",
       "       '97 minutes', '106 minutes', '98 minutes', '127 minutes',\n",
       "       '96 minutes', '90 minutes', '110 minutes', '91 minutes',\n",
       "       '142 minutes', '119 minutes', '86 minutes', '93 minutes',\n",
       "       '111 minutes', '89 minutes', '115 minutes', '107 minutes',\n",
       "       '165 minutes', '99 minutes', '113 minutes', '135 minutes',\n",
       "       '92 minutes', '102 minutes', '101 minutes', '114 minutes',\n",
       "       '109 minutes', '124 minutes', '100 minutes', '134 minutes',\n",
       "       '87 minutes', '94 minutes', '188 minutes', '126 minutes',\n",
       "       '63 minutes', '132 minutes', '137 minutes', '79 minutes',\n",
       "       '65 minutes', '156 minutes', '15 minutes', '85 minutes',\n",
       "       '120 minutes', '80 minutes', '118 minutes', '88 minutes',\n",
       "       '81 minutes', '143 minutes', '133 minutes', '129 minutes',\n",
       "       '52 minutes', '105 minutes', '83 minutes', '103 minutes',\n",
       "       '121 minutes', '125 minutes', '146 minutes', '122 minutes',\n",
       "       '196 minutes', '153 minutes', '84 minutes', '45 minutes',\n",
       "       '179 minutes', '130 minutes', '138 minutes', '175 minutes',\n",
       "       '174 minutes', '144 minutes', '184 minutes', '75 minutes',\n",
       "       '150 minutes', '164 minutes', '148 minutes', '60 minutes',\n",
       "       '76 minutes', '145 minutes', '358 minutes', '192 minutes',\n",
       "       '70 minutes', '154 minutes', '166 minutes', '112 minutes',\n",
       "       '167 minutes', '170 minutes', '205 minutes', '159 minutes',\n",
       "       '157 minutes', '67 minutes', '136 minutes', '149 minutes',\n",
       "       '161 minutes', '141 minutes', '140 minutes', '131 minutes',\n",
       "       '139 minutes', '290 minutes', '158 minutes', '147 minutes',\n",
       "       '73 minutes'], dtype=object)"
      ]
     },
     "execution_count": 69,
     "metadata": {},
     "output_type": "execute_result"
    }
   ],
   "source": [
    "#seeking to see if 'runtime' values are normally distributed\n",
    "movie_info_df['runtime'].unique()"
   ]
  },
  {
   "cell_type": "code",
   "execution_count": 70,
   "metadata": {},
   "outputs": [],
   "source": [
    "# Converting 'runtime' values into a float data type\n",
    "movie_info_df['runtime'] = movie_info_df['runtime'].str.replace(' minutes', '').astype(float)"
   ]
  },
  {
   "cell_type": "code",
   "execution_count": 71,
   "metadata": {},
   "outputs": [],
   "source": [
    "# It's a normal distribution so we use median to fill in missing values\n",
    "\n",
    "# Calculating the median value of the runtime column\n",
    "runtime_median = movie_info_df[\"runtime\"].median()\n",
    "\n",
    "# Filling in missing values with the median value\n",
    "movie_info_df[\"runtime\"].fillna(runtime_median, inplace=True)"
   ]
  },
  {
   "cell_type": "code",
   "execution_count": 72,
   "metadata": {},
   "outputs": [],
   "source": [
    "#Converting 'theater_date' and 'dvd_date' columns' datatypes into  datetime\n",
    "movie_info_df['theater_date'] = pd.to_datetime(movie_info_df['theater_date'])\n",
    "movie_info_df['dvd_date'] = pd.to_datetime(movie_info_df['dvd_date'])"
   ]
  },
  {
   "cell_type": "code",
   "execution_count": 73,
   "metadata": {},
   "outputs": [],
   "source": [
    "# Removing duplicated rows\n",
    "movie_info_df = movie_info_df.drop_duplicates()"
   ]
  },
  {
   "cell_type": "code",
   "execution_count": 74,
   "metadata": {},
   "outputs": [
    {
     "data": {
      "text/plain": [
       "0"
      ]
     },
     "execution_count": 74,
     "metadata": {},
     "output_type": "execute_result"
    }
   ],
   "source": [
    "# Rechecking for duplicates\n",
    "movie_info_df.duplicated().sum()"
   ]
  },
  {
   "cell_type": "code",
   "execution_count": 75,
   "metadata": {},
   "outputs": [
    {
     "data": {
      "text/plain": [
       "synopsis        0\n",
       "rating          0\n",
       "genre           0\n",
       "director        0\n",
       "writer          0\n",
       "theater_date    0\n",
       "dvd_date        0\n",
       "runtime         0\n",
       "dtype: int64"
      ]
     },
     "execution_count": 75,
     "metadata": {},
     "output_type": "execute_result"
    }
   ],
   "source": [
    "# Rechecking for missing values\n",
    "movie_info_df.isna().sum()"
   ]
  },
  {
   "cell_type": "code",
   "execution_count": 76,
   "metadata": {},
   "outputs": [
    {
     "data": {
      "text/plain": [
       "(937, 8)"
      ]
     },
     "execution_count": 76,
     "metadata": {},
     "output_type": "execute_result"
    }
   ],
   "source": [
    "#Rechecking the shape\n",
    "movie_info_df.shape"
   ]
  },
  {
   "cell_type": "code",
   "execution_count": 77,
   "metadata": {},
   "outputs": [
    {
     "name": "stdout",
     "output_type": "stream",
     "text": [
      "<class 'pandas.core.frame.DataFrame'>\n",
      "Int64Index: 937 entries, 1 to 2000\n",
      "Data columns (total 8 columns):\n",
      " #   Column        Non-Null Count  Dtype         \n",
      "---  ------        --------------  -----         \n",
      " 0   synopsis      937 non-null    object        \n",
      " 1   rating        937 non-null    object        \n",
      " 2   genre         937 non-null    object        \n",
      " 3   director      937 non-null    object        \n",
      " 4   writer        937 non-null    object        \n",
      " 5   theater_date  937 non-null    datetime64[ns]\n",
      " 6   dvd_date      937 non-null    datetime64[ns]\n",
      " 7   runtime       937 non-null    float64       \n",
      "dtypes: datetime64[ns](2), float64(1), object(5)\n",
      "memory usage: 65.9+ KB\n"
     ]
    }
   ],
   "source": [
    "# Rechecking the data\n",
    "movie_info_df.info()"
   ]
  },
  {
   "cell_type": "markdown",
   "metadata": {},
   "source": [
    "# Now, Onto some more specific Data Analysis and Visualization:\n",
    "**1. IDENTIFYING THE MOST SUCCESSFUL STUDIOS BASED ON DOMESTIC AND/OR INTERNATIONAL GROSS.**"
   ]
  },
  {
   "cell_type": "code",
   "execution_count": 78,
   "metadata": {
    "scrolled": true
   },
   "outputs": [
    {
     "data": {
      "text/html": [
       "<div>\n",
       "<style scoped>\n",
       "    .dataframe tbody tr th:only-of-type {\n",
       "        vertical-align: middle;\n",
       "    }\n",
       "\n",
       "    .dataframe tbody tr th {\n",
       "        vertical-align: top;\n",
       "    }\n",
       "\n",
       "    .dataframe thead th {\n",
       "        text-align: right;\n",
       "    }\n",
       "</style>\n",
       "<table border=\"1\" class=\"dataframe\">\n",
       "  <thead>\n",
       "    <tr style=\"text-align: right;\">\n",
       "      <th></th>\n",
       "      <th>title</th>\n",
       "      <th>studio</th>\n",
       "      <th>domestic_gross_x</th>\n",
       "      <th>year</th>\n",
       "      <th>date</th>\n",
       "      <th>release_date</th>\n",
       "      <th>movie</th>\n",
       "      <th>production_budget</th>\n",
       "      <th>domestic_gross_y</th>\n",
       "      <th>worldwide_gross</th>\n",
       "    </tr>\n",
       "  </thead>\n",
       "  <tbody>\n",
       "    <tr>\n",
       "      <th>0</th>\n",
       "      <td>Toy Story 3</td>\n",
       "      <td>BV</td>\n",
       "      <td>415000000.0</td>\n",
       "      <td>2010</td>\n",
       "      <td>2010-09-12</td>\n",
       "      <td>2010-06-18</td>\n",
       "      <td>Toy Story 3</td>\n",
       "      <td>200000000.0</td>\n",
       "      <td>415004880.0</td>\n",
       "      <td>1.068880e+09</td>\n",
       "    </tr>\n",
       "    <tr>\n",
       "      <th>1</th>\n",
       "      <td>Inception</td>\n",
       "      <td>WB</td>\n",
       "      <td>292600000.0</td>\n",
       "      <td>2010</td>\n",
       "      <td>2010-03-09</td>\n",
       "      <td>2010-07-16</td>\n",
       "      <td>Inception</td>\n",
       "      <td>160000000.0</td>\n",
       "      <td>292576195.0</td>\n",
       "      <td>8.355246e+08</td>\n",
       "    </tr>\n",
       "    <tr>\n",
       "      <th>2</th>\n",
       "      <td>Shrek Forever After</td>\n",
       "      <td>P/DW</td>\n",
       "      <td>238700000.0</td>\n",
       "      <td>2010</td>\n",
       "      <td>2010-11-06</td>\n",
       "      <td>2010-05-21</td>\n",
       "      <td>Shrek Forever After</td>\n",
       "      <td>165000000.0</td>\n",
       "      <td>238736787.0</td>\n",
       "      <td>7.562447e+08</td>\n",
       "    </tr>\n",
       "    <tr>\n",
       "      <th>3</th>\n",
       "      <td>The Twilight Saga: Eclipse</td>\n",
       "      <td>Sum.</td>\n",
       "      <td>300500000.0</td>\n",
       "      <td>2010</td>\n",
       "      <td>2010-01-03</td>\n",
       "      <td>2010-06-30</td>\n",
       "      <td>The Twilight Saga: Eclipse</td>\n",
       "      <td>68000000.0</td>\n",
       "      <td>300531751.0</td>\n",
       "      <td>7.061028e+08</td>\n",
       "    </tr>\n",
       "    <tr>\n",
       "      <th>4</th>\n",
       "      <td>Iron Man 2</td>\n",
       "      <td>Par.</td>\n",
       "      <td>312400000.0</td>\n",
       "      <td>2010</td>\n",
       "      <td>2010-01-01</td>\n",
       "      <td>2010-05-07</td>\n",
       "      <td>Iron Man 2</td>\n",
       "      <td>170000000.0</td>\n",
       "      <td>312433331.0</td>\n",
       "      <td>6.211564e+08</td>\n",
       "    </tr>\n",
       "  </tbody>\n",
       "</table>\n",
       "</div>"
      ],
      "text/plain": [
       "                        title studio  domestic_gross_x  year       date  \\\n",
       "0                 Toy Story 3     BV       415000000.0  2010 2010-09-12   \n",
       "1                   Inception     WB       292600000.0  2010 2010-03-09   \n",
       "2         Shrek Forever After   P/DW       238700000.0  2010 2010-11-06   \n",
       "3  The Twilight Saga: Eclipse   Sum.       300500000.0  2010 2010-01-03   \n",
       "4                  Iron Man 2   Par.       312400000.0  2010 2010-01-01   \n",
       "\n",
       "  release_date                       movie  production_budget  \\\n",
       "0   2010-06-18                 Toy Story 3        200000000.0   \n",
       "1   2010-07-16                   Inception        160000000.0   \n",
       "2   2010-05-21         Shrek Forever After        165000000.0   \n",
       "3   2010-06-30  The Twilight Saga: Eclipse         68000000.0   \n",
       "4   2010-05-07                  Iron Man 2        170000000.0   \n",
       "\n",
       "   domestic_gross_y  worldwide_gross  \n",
       "0       415004880.0     1.068880e+09  \n",
       "1       292576195.0     8.355246e+08  \n",
       "2       238736787.0     7.562447e+08  \n",
       "3       300531751.0     7.061028e+08  \n",
       "4       312433331.0     6.211564e+08  "
      ]
     },
     "execution_count": 78,
     "metadata": {},
     "output_type": "execute_result"
    }
   ],
   "source": [
    "# Merging the bom_df and budgets_df datasets\n",
    "merged_df_gross = pd.merge(bom_df, budgets_df, left_on='title', right_on='movie', how='inner')\n",
    "merged_df_gross.head()"
   ]
  },
  {
   "cell_type": "code",
   "execution_count": 79,
   "metadata": {
    "scrolled": true
   },
   "outputs": [
    {
     "data": {
      "text/html": [
       "<div>\n",
       "<style scoped>\n",
       "    .dataframe tbody tr th:only-of-type {\n",
       "        vertical-align: middle;\n",
       "    }\n",
       "\n",
       "    .dataframe tbody tr th {\n",
       "        vertical-align: top;\n",
       "    }\n",
       "\n",
       "    .dataframe thead th {\n",
       "        text-align: right;\n",
       "    }\n",
       "</style>\n",
       "<table border=\"1\" class=\"dataframe\">\n",
       "  <thead>\n",
       "    <tr style=\"text-align: right;\">\n",
       "      <th></th>\n",
       "      <th>domestic_gross</th>\n",
       "      <th>international_gross</th>\n",
       "      <th>total_gross</th>\n",
       "    </tr>\n",
       "    <tr>\n",
       "      <th>studio</th>\n",
       "      <th></th>\n",
       "      <th></th>\n",
       "      <th></th>\n",
       "    </tr>\n",
       "  </thead>\n",
       "  <tbody>\n",
       "    <tr>\n",
       "      <th>BV</th>\n",
       "      <td>1.292690e+10</td>\n",
       "      <td>3.328602e+10</td>\n",
       "      <td>4.621292e+10</td>\n",
       "    </tr>\n",
       "    <tr>\n",
       "      <th>Uni.</th>\n",
       "      <td>1.077074e+10</td>\n",
       "      <td>2.732929e+10</td>\n",
       "      <td>3.810003e+10</td>\n",
       "    </tr>\n",
       "    <tr>\n",
       "      <th>Fox</th>\n",
       "      <td>9.306400e+09</td>\n",
       "      <td>2.679581e+10</td>\n",
       "      <td>3.610221e+10</td>\n",
       "    </tr>\n",
       "    <tr>\n",
       "      <th>WB</th>\n",
       "      <td>9.191900e+09</td>\n",
       "      <td>2.219381e+10</td>\n",
       "      <td>3.138571e+10</td>\n",
       "    </tr>\n",
       "    <tr>\n",
       "      <th>Sony</th>\n",
       "      <td>7.146000e+09</td>\n",
       "      <td>1.760181e+10</td>\n",
       "      <td>2.474781e+10</td>\n",
       "    </tr>\n",
       "    <tr>\n",
       "      <th>Par.</th>\n",
       "      <td>6.039100e+09</td>\n",
       "      <td>1.443821e+10</td>\n",
       "      <td>2.047731e+10</td>\n",
       "    </tr>\n",
       "    <tr>\n",
       "      <th>WB (NL)</th>\n",
       "      <td>3.417700e+09</td>\n",
       "      <td>8.540864e+09</td>\n",
       "      <td>1.195856e+10</td>\n",
       "    </tr>\n",
       "    <tr>\n",
       "      <th>LGF</th>\n",
       "      <td>3.332373e+09</td>\n",
       "      <td>6.983389e+09</td>\n",
       "      <td>1.031576e+10</td>\n",
       "    </tr>\n",
       "    <tr>\n",
       "      <th>P/DW</th>\n",
       "      <td>1.682900e+09</td>\n",
       "      <td>5.078028e+09</td>\n",
       "      <td>6.760928e+09</td>\n",
       "    </tr>\n",
       "    <tr>\n",
       "      <th>LG/S</th>\n",
       "      <td>1.542400e+09</td>\n",
       "      <td>3.815925e+09</td>\n",
       "      <td>5.358325e+09</td>\n",
       "    </tr>\n",
       "  </tbody>\n",
       "</table>\n",
       "</div>"
      ],
      "text/plain": [
       "         domestic_gross  international_gross   total_gross\n",
       "studio                                                    \n",
       "BV         1.292690e+10         3.328602e+10  4.621292e+10\n",
       "Uni.       1.077074e+10         2.732929e+10  3.810003e+10\n",
       "Fox        9.306400e+09         2.679581e+10  3.610221e+10\n",
       "WB         9.191900e+09         2.219381e+10  3.138571e+10\n",
       "Sony       7.146000e+09         1.760181e+10  2.474781e+10\n",
       "Par.       6.039100e+09         1.443821e+10  2.047731e+10\n",
       "WB (NL)    3.417700e+09         8.540864e+09  1.195856e+10\n",
       "LGF        3.332373e+09         6.983389e+09  1.031576e+10\n",
       "P/DW       1.682900e+09         5.078028e+09  6.760928e+09\n",
       "LG/S       1.542400e+09         3.815925e+09  5.358325e+09"
      ]
     },
     "execution_count": 79,
     "metadata": {},
     "output_type": "execute_result"
    }
   ],
   "source": [
    "# Grouping by studio and calculating total domestic and international gross\n",
    "studio_gross_df = merged_df_gross.groupby('studio').agg({'domestic_gross_x': 'sum', 'worldwide_gross': 'sum'})\n",
    "\n",
    "# Renaming columns\n",
    "studio_gross_df = studio_gross_df.rename(columns={'domestic_gross_x': 'domestic_gross', 'worldwide_gross': 'international_gross'})\n",
    "\n",
    "# Calculating total gross\n",
    "studio_gross_df['total_gross'] = studio_gross_df['domestic_gross'] + studio_gross_df['international_gross']\n",
    "\n",
    "# Sort by total gross in descending order\n",
    "studio_gross_df = studio_gross_df.sort_values(by='total_gross', ascending=False)\n",
    "\n",
    "# Displaying the top 10 studios based on total gross\n",
    "top_studios = studio_gross_df.head(10)\n",
    "top_studios"
   ]
  },
  {
   "cell_type": "markdown",
   "metadata": {},
   "source": [
    "# Visualization of studio to gross analysis\n",
    "I created a histogram to give a visual representation of the distribution of total grosses across all studios and a bar chart to show the total gross revenue for each of the top 10 movie studios."
   ]
  },
  {
   "cell_type": "code",
   "execution_count": 80,
   "metadata": {},
   "outputs": [
    {
     "data": {
      "image/png": "[encoded data removed]",
      "text/plain": [
       "<Figure size 432x288 with 1 Axes>"
      ]
     },
     "metadata": {
      "needs_background": "light"
     },
     "output_type": "display_data"
    }
   ],
   "source": [
    "# Plotting a histogram to show the distribution of studio grosses\n",
    "plt.hist(studio_gross_df['total_gross'], bins=50)\n",
    "\n",
    "# Setting the title and axis labels\n",
    "plt.title('Distribution of Studio Grosses')\n",
    "plt.xlabel('Total Gross (in billion dollars)')\n",
    "plt.ylabel('Frequency')\n",
    "\n",
    "# Display the plot\n",
    "plt.show()"
   ]
  },
  {
   "cell_type": "code",
   "execution_count": 81,
   "metadata": {},
   "outputs": [
    {
     "data": {
      "image/png": "[encoded data removed]",
      "text/plain": [
       "<Figure size 720x432 with 1 Axes>"
      ]
     },
     "metadata": {
      "needs_background": "light"
     },
     "output_type": "display_data"
    }
   ],
   "source": [
    "# Creating a bar chart of the top 10 studios based on total gross\n",
    "plt.figure(figsize=(10, 6))\n",
    "plt.bar(top_studios.index, top_studios['total_gross'])\n",
    "\n",
    "# Setting the title and axis labels\n",
    "plt.title('Top 10 Studios by Total Gross')\n",
    "plt.xlabel('Studio')\n",
    "plt.ylabel('Total Gross (in billion dollars)')\n",
    "\n",
    "# Rotating the x-axis labels for better readability\n",
    "plt.xticks(rotation=90)\n",
    "\n",
    "# Display the plot\n",
    "plt.show()"
   ]
  },
  {
   "cell_type": "markdown",
   "metadata": {},
   "source": [
    "**Observation**"
   ]
  },
  {
   "cell_type": "code",
   "execution_count": 82,
   "metadata": {},
   "outputs": [
    {
     "data": {
      "text/plain": [
       "'\\nThe histogram indicates that over 70 studios have a total gross between 0 and 0.5 billion dollars, with a few outliers (below 10) having a total gross of over 4 billion dollars.\\nThis suggests the movie industry is highly competitive, with most studios earning relatively modest profits.\\nThis also suggests that a few major studios dominate the film industry and earn the majority of its profits.\\nOn the other hand, the bar graph shows the top 10 studios that are the most successful studios earning  much higher profits than the average studio.\\n'"
      ]
     },
     "execution_count": 82,
     "metadata": {},
     "output_type": "execute_result"
    }
   ],
   "source": [
    "\"\"\"\n",
    "The histogram indicates that over 70 studios have a total gross between 0 and 0.5 billion dollars, with a few outliers (below 10) having a total gross of over 4 billion dollars.\n",
    "This suggests the movie industry is highly competitive, with most studios earning relatively modest profits.\n",
    "This also suggests that a few major studios dominate the film industry and earn the majority of its profits.\n",
    "On the other hand, the bar graph shows the top 10 studios that are the most successful studios earning  much higher profits than the average studio.\n",
    "\"\"\""
   ]
  },
  {
   "cell_type": "markdown",
   "metadata": {},
   "source": [
    "**2. ANALYZING THE DISTRIBUTION OF MOVIES BY GENRES TO IDENTIFY WHICH GENRES TEND TO HAVE HIGHER DOMESTIC AND/OR INTERNATIONAL GROSS**"
   ]
  },
  {
   "cell_type": "code",
   "execution_count": 83,
   "metadata": {
    "scrolled": true
   },
   "outputs": [
    {
     "data": {
      "text/html": [
       "<div>\n",
       "<style scoped>\n",
       "    .dataframe tbody tr th:only-of-type {\n",
       "        vertical-align: middle;\n",
       "    }\n",
       "\n",
       "    .dataframe tbody tr th {\n",
       "        vertical-align: top;\n",
       "    }\n",
       "\n",
       "    .dataframe thead th {\n",
       "        text-align: right;\n",
       "    }\n",
       "</style>\n",
       "<table border=\"1\" class=\"dataframe\">\n",
       "  <thead>\n",
       "    <tr style=\"text-align: right;\">\n",
       "      <th></th>\n",
       "      <th>release_date</th>\n",
       "      <th>movie</th>\n",
       "      <th>production_budget</th>\n",
       "      <th>domestic_gross</th>\n",
       "      <th>worldwide_gross</th>\n",
       "      <th>synopsis</th>\n",
       "      <th>rating</th>\n",
       "      <th>genre</th>\n",
       "      <th>director</th>\n",
       "      <th>writer</th>\n",
       "      <th>theater_date</th>\n",
       "      <th>dvd_date</th>\n",
       "      <th>runtime</th>\n",
       "    </tr>\n",
       "  </thead>\n",
       "  <tbody>\n",
       "    <tr>\n",
       "      <th>0</th>\n",
       "      <td>2012-03-09</td>\n",
       "      <td>John Carter</td>\n",
       "      <td>275000000.0</td>\n",
       "      <td>73058679.0</td>\n",
       "      <td>282778100.0</td>\n",
       "      <td>Friends with Kids is a daring and poignant ens...</td>\n",
       "      <td>R</td>\n",
       "      <td>Comedy|Drama</td>\n",
       "      <td>Jennifer Westfeldt</td>\n",
       "      <td>Jennifer Westfeldt</td>\n",
       "      <td>2012-03-09</td>\n",
       "      <td>2012-07-17</td>\n",
       "      <td>107.0</td>\n",
       "    </tr>\n",
       "    <tr>\n",
       "      <th>1</th>\n",
       "      <td>2012-03-09</td>\n",
       "      <td>John Carter</td>\n",
       "      <td>275000000.0</td>\n",
       "      <td>73058679.0</td>\n",
       "      <td>282778100.0</td>\n",
       "      <td>From filmmaker Andrew Stanton comes John Carte...</td>\n",
       "      <td>PG-13</td>\n",
       "      <td>Action and Adventure|Horror|Kids and Family|Sc...</td>\n",
       "      <td>Andrew Stanton|Mark Atkins</td>\n",
       "      <td>Mark Atkins|Mark Andrews|Michael Chabon|Andrew...</td>\n",
       "      <td>2012-03-09</td>\n",
       "      <td>2012-06-05</td>\n",
       "      <td>118.0</td>\n",
       "    </tr>\n",
       "    <tr>\n",
       "      <th>2</th>\n",
       "      <td>2012-03-09</td>\n",
       "      <td>A Thousand Words</td>\n",
       "      <td>40000000.0</td>\n",
       "      <td>18450127.0</td>\n",
       "      <td>20790486.0</td>\n",
       "      <td>Friends with Kids is a daring and poignant ens...</td>\n",
       "      <td>R</td>\n",
       "      <td>Comedy|Drama</td>\n",
       "      <td>Jennifer Westfeldt</td>\n",
       "      <td>Jennifer Westfeldt</td>\n",
       "      <td>2012-03-09</td>\n",
       "      <td>2012-07-17</td>\n",
       "      <td>107.0</td>\n",
       "    </tr>\n",
       "    <tr>\n",
       "      <th>3</th>\n",
       "      <td>2012-03-09</td>\n",
       "      <td>A Thousand Words</td>\n",
       "      <td>40000000.0</td>\n",
       "      <td>18450127.0</td>\n",
       "      <td>20790486.0</td>\n",
       "      <td>From filmmaker Andrew Stanton comes John Carte...</td>\n",
       "      <td>PG-13</td>\n",
       "      <td>Action and Adventure|Horror|Kids and Family|Sc...</td>\n",
       "      <td>Andrew Stanton|Mark Atkins</td>\n",
       "      <td>Mark Atkins|Mark Andrews|Michael Chabon|Andrew...</td>\n",
       "      <td>2012-03-09</td>\n",
       "      <td>2012-06-05</td>\n",
       "      <td>118.0</td>\n",
       "    </tr>\n",
       "    <tr>\n",
       "      <th>4</th>\n",
       "      <td>2012-03-09</td>\n",
       "      <td>Silent House</td>\n",
       "      <td>2000000.0</td>\n",
       "      <td>12739737.0</td>\n",
       "      <td>16610760.0</td>\n",
       "      <td>Friends with Kids is a daring and poignant ens...</td>\n",
       "      <td>R</td>\n",
       "      <td>Comedy|Drama</td>\n",
       "      <td>Jennifer Westfeldt</td>\n",
       "      <td>Jennifer Westfeldt</td>\n",
       "      <td>2012-03-09</td>\n",
       "      <td>2012-07-17</td>\n",
       "      <td>107.0</td>\n",
       "    </tr>\n",
       "  </tbody>\n",
       "</table>\n",
       "</div>"
      ],
      "text/plain": [
       "  release_date             movie  production_budget  domestic_gross  \\\n",
       "0   2012-03-09       John Carter        275000000.0      73058679.0   \n",
       "1   2012-03-09       John Carter        275000000.0      73058679.0   \n",
       "2   2012-03-09  A Thousand Words         40000000.0      18450127.0   \n",
       "3   2012-03-09  A Thousand Words         40000000.0      18450127.0   \n",
       "4   2012-03-09      Silent House          2000000.0      12739737.0   \n",
       "\n",
       "   worldwide_gross                                           synopsis rating  \\\n",
       "0      282778100.0  Friends with Kids is a daring and poignant ens...      R   \n",
       "1      282778100.0  From filmmaker Andrew Stanton comes John Carte...  PG-13   \n",
       "2       20790486.0  Friends with Kids is a daring and poignant ens...      R   \n",
       "3       20790486.0  From filmmaker Andrew Stanton comes John Carte...  PG-13   \n",
       "4       16610760.0  Friends with Kids is a daring and poignant ens...      R   \n",
       "\n",
       "                                               genre  \\\n",
       "0                                       Comedy|Drama   \n",
       "1  Action and Adventure|Horror|Kids and Family|Sc...   \n",
       "2                                       Comedy|Drama   \n",
       "3  Action and Adventure|Horror|Kids and Family|Sc...   \n",
       "4                                       Comedy|Drama   \n",
       "\n",
       "                     director  \\\n",
       "0          Jennifer Westfeldt   \n",
       "1  Andrew Stanton|Mark Atkins   \n",
       "2          Jennifer Westfeldt   \n",
       "3  Andrew Stanton|Mark Atkins   \n",
       "4          Jennifer Westfeldt   \n",
       "\n",
       "                                              writer theater_date   dvd_date  \\\n",
       "0                                 Jennifer Westfeldt   2012-03-09 2012-07-17   \n",
       "1  Mark Atkins|Mark Andrews|Michael Chabon|Andrew...   2012-03-09 2012-06-05   \n",
       "2                                 Jennifer Westfeldt   2012-03-09 2012-07-17   \n",
       "3  Mark Atkins|Mark Andrews|Michael Chabon|Andrew...   2012-03-09 2012-06-05   \n",
       "4                                 Jennifer Westfeldt   2012-03-09 2012-07-17   \n",
       "\n",
       "   runtime  \n",
       "0    107.0  \n",
       "1    118.0  \n",
       "2    107.0  \n",
       "3    118.0  \n",
       "4    107.0  "
      ]
     },
     "execution_count": 83,
     "metadata": {},
     "output_type": "execute_result"
    }
   ],
   "source": [
    "# Merging the budgets_df and movie_info_df datasets\n",
    "merged_df_genre = pd.merge(budgets_df, movie_info_df, left_on='release_date', right_on='theater_date', how='inner')\n",
    "merged_df_genre.head()"
   ]
  },
  {
   "cell_type": "code",
   "execution_count": 84,
   "metadata": {},
   "outputs": [
    {
     "data": {
      "text/html": [
       "<div>\n",
       "<style scoped>\n",
       "    .dataframe tbody tr th:only-of-type {\n",
       "        vertical-align: middle;\n",
       "    }\n",
       "\n",
       "    .dataframe tbody tr th {\n",
       "        vertical-align: top;\n",
       "    }\n",
       "\n",
       "    .dataframe thead th {\n",
       "        text-align: right;\n",
       "    }\n",
       "</style>\n",
       "<table border=\"1\" class=\"dataframe\">\n",
       "  <thead>\n",
       "    <tr style=\"text-align: right;\">\n",
       "      <th></th>\n",
       "      <th>domestic_gross</th>\n",
       "      <th>international_gross</th>\n",
       "      <th>total_gross</th>\n",
       "    </tr>\n",
       "    <tr>\n",
       "      <th>genre</th>\n",
       "      <th></th>\n",
       "      <th></th>\n",
       "      <th></th>\n",
       "    </tr>\n",
       "  </thead>\n",
       "  <tbody>\n",
       "    <tr>\n",
       "      <th>Drama</th>\n",
       "      <td>1.002752e+10</td>\n",
       "      <td>2.148240e+10</td>\n",
       "      <td>3.150992e+10</td>\n",
       "    </tr>\n",
       "    <tr>\n",
       "      <th>Comedy</th>\n",
       "      <td>6.669892e+09</td>\n",
       "      <td>1.327079e+10</td>\n",
       "      <td>1.994068e+10</td>\n",
       "    </tr>\n",
       "    <tr>\n",
       "      <th>Comedy|Drama</th>\n",
       "      <td>4.661394e+09</td>\n",
       "      <td>1.108836e+10</td>\n",
       "      <td>1.574975e+10</td>\n",
       "    </tr>\n",
       "    <tr>\n",
       "      <th>Drama|Mystery and Suspense</th>\n",
       "      <td>3.211986e+09</td>\n",
       "      <td>7.151646e+09</td>\n",
       "      <td>1.036363e+10</td>\n",
       "    </tr>\n",
       "    <tr>\n",
       "      <th>Comedy|Romance</th>\n",
       "      <td>2.758701e+09</td>\n",
       "      <td>6.128427e+09</td>\n",
       "      <td>8.887128e+09</td>\n",
       "    </tr>\n",
       "    <tr>\n",
       "      <th>Drama|Romance</th>\n",
       "      <td>2.630530e+09</td>\n",
       "      <td>5.509914e+09</td>\n",
       "      <td>8.140444e+09</td>\n",
       "    </tr>\n",
       "    <tr>\n",
       "      <th>Action and Adventure|Science Fiction and Fantasy</th>\n",
       "      <td>1.813010e+09</td>\n",
       "      <td>4.221850e+09</td>\n",
       "      <td>6.034860e+09</td>\n",
       "    </tr>\n",
       "    <tr>\n",
       "      <th>Action and Adventure|Drama|Mystery and Suspense</th>\n",
       "      <td>1.777634e+09</td>\n",
       "      <td>3.838749e+09</td>\n",
       "      <td>5.616382e+09</td>\n",
       "    </tr>\n",
       "    <tr>\n",
       "      <th>Art House and International|Drama</th>\n",
       "      <td>2.095860e+09</td>\n",
       "      <td>3.484392e+09</td>\n",
       "      <td>5.580252e+09</td>\n",
       "    </tr>\n",
       "    <tr>\n",
       "      <th>Action and Adventure|Drama</th>\n",
       "      <td>1.686942e+09</td>\n",
       "      <td>3.365846e+09</td>\n",
       "      <td>5.052787e+09</td>\n",
       "    </tr>\n",
       "  </tbody>\n",
       "</table>\n",
       "</div>"
      ],
      "text/plain": [
       "                                                  domestic_gross  \\\n",
       "genre                                                              \n",
       "Drama                                               1.002752e+10   \n",
       "Comedy                                              6.669892e+09   \n",
       "Comedy|Drama                                        4.661394e+09   \n",
       "Drama|Mystery and Suspense                          3.211986e+09   \n",
       "Comedy|Romance                                      2.758701e+09   \n",
       "Drama|Romance                                       2.630530e+09   \n",
       "Action and Adventure|Science Fiction and Fantasy    1.813010e+09   \n",
       "Action and Adventure|Drama|Mystery and Suspense     1.777634e+09   \n",
       "Art House and International|Drama                   2.095860e+09   \n",
       "Action and Adventure|Drama                          1.686942e+09   \n",
       "\n",
       "                                                  international_gross  \\\n",
       "genre                                                                   \n",
       "Drama                                                    2.148240e+10   \n",
       "Comedy                                                   1.327079e+10   \n",
       "Comedy|Drama                                             1.108836e+10   \n",
       "Drama|Mystery and Suspense                               7.151646e+09   \n",
       "Comedy|Romance                                           6.128427e+09   \n",
       "Drama|Romance                                            5.509914e+09   \n",
       "Action and Adventure|Science Fiction and Fantasy         4.221850e+09   \n",
       "Action and Adventure|Drama|Mystery and Suspense          3.838749e+09   \n",
       "Art House and International|Drama                        3.484392e+09   \n",
       "Action and Adventure|Drama                               3.365846e+09   \n",
       "\n",
       "                                                   total_gross  \n",
       "genre                                                           \n",
       "Drama                                             3.150992e+10  \n",
       "Comedy                                            1.994068e+10  \n",
       "Comedy|Drama                                      1.574975e+10  \n",
       "Drama|Mystery and Suspense                        1.036363e+10  \n",
       "Comedy|Romance                                    8.887128e+09  \n",
       "Drama|Romance                                     8.140444e+09  \n",
       "Action and Adventure|Science Fiction and Fantasy  6.034860e+09  \n",
       "Action and Adventure|Drama|Mystery and Suspense   5.616382e+09  \n",
       "Art House and International|Drama                 5.580252e+09  \n",
       "Action and Adventure|Drama                        5.052787e+09  "
      ]
     },
     "execution_count": 84,
     "metadata": {},
     "output_type": "execute_result"
    }
   ],
   "source": [
    "# Grouping by genre and calculating the total domestic and international gross\n",
    "genre_gross_df = merged_df_genre.groupby('genre')[['domestic_gross', 'worldwide_gross']].sum()\n",
    "\n",
    "#Renaming the column worldwide_gross\n",
    "genre_gross_df = genre_gross_df.rename(columns={'worldwide_gross': 'international_gross'})\n",
    "\n",
    "# Calculating total gross\n",
    "genre_gross_df['total_gross'] = genre_gross_df['domestic_gross'] + genre_gross_df['international_gross']\n",
    "\n",
    "# Sort by total gross in descending order\n",
    "genre_gross_df = genre_gross_df.sort_values(by='total_gross', ascending=False)\n",
    "\n",
    "# Displaying the top 10 genres based on total gross\n",
    "top_genres = genre_gross_df.head(10)\n",
    "top_genres"
   ]
  },
  {
   "cell_type": "markdown",
   "metadata": {},
   "source": [
    "# Visualization of genre to gross analysis\n",
    "I used a bar graph to display the total gross for each genre."
   ]
  },
  {
   "cell_type": "code",
   "execution_count": 85,
   "metadata": {
    "scrolled": true
   },
   "outputs": [
    {
     "data": {
      "image/png": "[encoded data removed]",
      "text/plain": [
       "<Figure size 432x288 with 1 Axes>"
      ]
     },
     "metadata": {
      "needs_background": "light"
     },
     "output_type": "display_data"
    }
   ],
   "source": [
    "# Creating a bar chart to visualize the distribution of total gross revenue across different genres\n",
    "plt.barh(top_genres.index, top_genres['total_gross'])\n",
    "plt.title('Top 10 Movie Genres by Total Gross')\n",
    "plt.xlabel('Total Gross (in billion dollars)')\n",
    "plt.ylabel('Movie Genre')\n",
    "plt.xticks(rotation=45)\n",
    "plt.show()"
   ]
  },
  {
   "cell_type": "markdown",
   "metadata": {},
   "source": [
    "**Observation**"
   ]
  },
  {
   "cell_type": "code",
   "execution_count": 86,
   "metadata": {},
   "outputs": [
    {
     "data": {
      "text/plain": [
       "'\\nBased on the bar chart of the top 10 movie genres by total gross, the highest grossing movie genres are drama, comedy, comedy|Drama and Drama|Mystery|Suspense grossing at over 1 billion dollars.\\nThe other genres gross relatively low at below 1 billion dollars.\\n'"
      ]
     },
     "execution_count": 86,
     "metadata": {},
     "output_type": "execute_result"
    }
   ],
   "source": [
    "\"\"\"\n",
    "Based on the bar chart of the top 10 movie genres by total gross, the highest grossing movie genres are drama, comedy, comedy|Drama and Drama|Mystery|Suspense grossing at over 1 billion dollars.\n",
    "The other genres gross relatively low at below 1 billion dollars.\n",
    "\"\"\""
   ]
  },
  {
   "cell_type": "markdown",
   "metadata": {},
   "source": [
    "**3. IDENTIFYING THE CORRELATION BETWEEN FILM PRODUCTION COST AND IT'S BOX OFFICE SUCCESS**"
   ]
  },
  {
   "cell_type": "code",
   "execution_count": 87,
   "metadata": {},
   "outputs": [
    {
     "data": {
      "text/html": [
       "<div>\n",
       "<style scoped>\n",
       "    .dataframe tbody tr th:only-of-type {\n",
       "        vertical-align: middle;\n",
       "    }\n",
       "\n",
       "    .dataframe tbody tr th {\n",
       "        vertical-align: top;\n",
       "    }\n",
       "\n",
       "    .dataframe thead th {\n",
       "        text-align: right;\n",
       "    }\n",
       "</style>\n",
       "<table border=\"1\" class=\"dataframe\">\n",
       "  <thead>\n",
       "    <tr style=\"text-align: right;\">\n",
       "      <th></th>\n",
       "      <th>title</th>\n",
       "      <th>studio</th>\n",
       "      <th>domestic_gross</th>\n",
       "      <th>year</th>\n",
       "      <th>date</th>\n",
       "      <th>release_date</th>\n",
       "      <th>movie</th>\n",
       "      <th>production_budget</th>\n",
       "      <th>domestic_gross_y</th>\n",
       "      <th>international_gross</th>\n",
       "    </tr>\n",
       "  </thead>\n",
       "  <tbody>\n",
       "    <tr>\n",
       "      <th>0</th>\n",
       "      <td>Toy Story 3</td>\n",
       "      <td>BV</td>\n",
       "      <td>415000000.0</td>\n",
       "      <td>2010</td>\n",
       "      <td>2010-09-12</td>\n",
       "      <td>2010-06-18</td>\n",
       "      <td>Toy Story 3</td>\n",
       "      <td>200000000.0</td>\n",
       "      <td>415004880.0</td>\n",
       "      <td>1.068880e+09</td>\n",
       "    </tr>\n",
       "    <tr>\n",
       "      <th>1</th>\n",
       "      <td>Inception</td>\n",
       "      <td>WB</td>\n",
       "      <td>292600000.0</td>\n",
       "      <td>2010</td>\n",
       "      <td>2010-03-09</td>\n",
       "      <td>2010-07-16</td>\n",
       "      <td>Inception</td>\n",
       "      <td>160000000.0</td>\n",
       "      <td>292576195.0</td>\n",
       "      <td>8.355246e+08</td>\n",
       "    </tr>\n",
       "    <tr>\n",
       "      <th>2</th>\n",
       "      <td>Shrek Forever After</td>\n",
       "      <td>P/DW</td>\n",
       "      <td>238700000.0</td>\n",
       "      <td>2010</td>\n",
       "      <td>2010-11-06</td>\n",
       "      <td>2010-05-21</td>\n",
       "      <td>Shrek Forever After</td>\n",
       "      <td>165000000.0</td>\n",
       "      <td>238736787.0</td>\n",
       "      <td>7.562447e+08</td>\n",
       "    </tr>\n",
       "    <tr>\n",
       "      <th>3</th>\n",
       "      <td>The Twilight Saga: Eclipse</td>\n",
       "      <td>Sum.</td>\n",
       "      <td>300500000.0</td>\n",
       "      <td>2010</td>\n",
       "      <td>2010-01-03</td>\n",
       "      <td>2010-06-30</td>\n",
       "      <td>The Twilight Saga: Eclipse</td>\n",
       "      <td>68000000.0</td>\n",
       "      <td>300531751.0</td>\n",
       "      <td>7.061028e+08</td>\n",
       "    </tr>\n",
       "    <tr>\n",
       "      <th>4</th>\n",
       "      <td>Iron Man 2</td>\n",
       "      <td>Par.</td>\n",
       "      <td>312400000.0</td>\n",
       "      <td>2010</td>\n",
       "      <td>2010-01-01</td>\n",
       "      <td>2010-05-07</td>\n",
       "      <td>Iron Man 2</td>\n",
       "      <td>170000000.0</td>\n",
       "      <td>312433331.0</td>\n",
       "      <td>6.211564e+08</td>\n",
       "    </tr>\n",
       "  </tbody>\n",
       "</table>\n",
       "</div>"
      ],
      "text/plain": [
       "                        title studio  domestic_gross  year       date  \\\n",
       "0                 Toy Story 3     BV     415000000.0  2010 2010-09-12   \n",
       "1                   Inception     WB     292600000.0  2010 2010-03-09   \n",
       "2         Shrek Forever After   P/DW     238700000.0  2010 2010-11-06   \n",
       "3  The Twilight Saga: Eclipse   Sum.     300500000.0  2010 2010-01-03   \n",
       "4                  Iron Man 2   Par.     312400000.0  2010 2010-01-01   \n",
       "\n",
       "  release_date                       movie  production_budget  \\\n",
       "0   2010-06-18                 Toy Story 3        200000000.0   \n",
       "1   2010-07-16                   Inception        160000000.0   \n",
       "2   2010-05-21         Shrek Forever After        165000000.0   \n",
       "3   2010-06-30  The Twilight Saga: Eclipse         68000000.0   \n",
       "4   2010-05-07                  Iron Man 2        170000000.0   \n",
       "\n",
       "   domestic_gross_y  international_gross  \n",
       "0       415004880.0         1.068880e+09  \n",
       "1       292576195.0         8.355246e+08  \n",
       "2       238736787.0         7.562447e+08  \n",
       "3       300531751.0         7.061028e+08  \n",
       "4       312433331.0         6.211564e+08  "
      ]
     },
     "execution_count": 87,
     "metadata": {},
     "output_type": "execute_result"
    }
   ],
   "source": [
    "# Using the previously merged bom_df and budgets_df dataframes as merged_df_gross\n",
    "merged_df_gross = pd.merge(bom_df, budgets_df, left_on='title', right_on='movie', how='inner')\n",
    "\n",
    "#Renaming the worldwide_gross column\n",
    "merged_df_gross = merged_df_gross.rename(columns={'domestic_gross_x': 'domestic_gross', 'worldwide_gross': 'international_gross'})\n",
    "merged_df_gross.head()"
   ]
  },
  {
   "cell_type": "code",
   "execution_count": 88,
   "metadata": {},
   "outputs": [
    {
     "data": {
      "text/html": [
       "<div>\n",
       "<style scoped>\n",
       "    .dataframe tbody tr th:only-of-type {\n",
       "        vertical-align: middle;\n",
       "    }\n",
       "\n",
       "    .dataframe tbody tr th {\n",
       "        vertical-align: top;\n",
       "    }\n",
       "\n",
       "    .dataframe thead th {\n",
       "        text-align: right;\n",
       "    }\n",
       "</style>\n",
       "<table border=\"1\" class=\"dataframe\">\n",
       "  <thead>\n",
       "    <tr style=\"text-align: right;\">\n",
       "      <th></th>\n",
       "      <th>movie</th>\n",
       "      <th>production_budget</th>\n",
       "      <th>total_gross</th>\n",
       "    </tr>\n",
       "  </thead>\n",
       "  <tbody>\n",
       "    <tr>\n",
       "      <th>671</th>\n",
       "      <td>Pirates of the Caribbean: On Stranger Tides</td>\n",
       "      <td>410600000.0</td>\n",
       "      <td>1.286764e+09</td>\n",
       "    </tr>\n",
       "    <tr>\n",
       "      <th>94</th>\n",
       "      <td>Avengers: Age of Ultron</td>\n",
       "      <td>330600000.0</td>\n",
       "      <td>1.862014e+09</td>\n",
       "    </tr>\n",
       "    <tr>\n",
       "      <th>721</th>\n",
       "      <td>Robin Hood</td>\n",
       "      <td>309000000.0</td>\n",
       "      <td>6.178064e+08</td>\n",
       "    </tr>\n",
       "    <tr>\n",
       "      <th>469</th>\n",
       "      <td>Justice League</td>\n",
       "      <td>300000000.0</td>\n",
       "      <td>8.849452e+08</td>\n",
       "    </tr>\n",
       "    <tr>\n",
       "      <th>95</th>\n",
       "      <td>Avengers: Infinity War</td>\n",
       "      <td>300000000.0</td>\n",
       "      <td>2.726934e+09</td>\n",
       "    </tr>\n",
       "    <tr>\n",
       "      <th>800</th>\n",
       "      <td>Spectre</td>\n",
       "      <td>300000000.0</td>\n",
       "      <td>1.079721e+09</td>\n",
       "    </tr>\n",
       "    <tr>\n",
       "      <th>453</th>\n",
       "      <td>John Carter</td>\n",
       "      <td>275000000.0</td>\n",
       "      <td>3.558781e+08</td>\n",
       "    </tr>\n",
       "    <tr>\n",
       "      <th>903</th>\n",
       "      <td>The Dark Knight Rises</td>\n",
       "      <td>275000000.0</td>\n",
       "      <td>1.532539e+09</td>\n",
       "    </tr>\n",
       "    <tr>\n",
       "      <th>790</th>\n",
       "      <td>Solo: A Star Wars Story</td>\n",
       "      <td>275000000.0</td>\n",
       "      <td>6.069513e+08</td>\n",
       "    </tr>\n",
       "    <tr>\n",
       "      <th>1012</th>\n",
       "      <td>The Lone Ranger</td>\n",
       "      <td>275000000.0</td>\n",
       "      <td>3.493021e+08</td>\n",
       "    </tr>\n",
       "  </tbody>\n",
       "</table>\n",
       "</div>"
      ],
      "text/plain": [
       "                                            movie  production_budget  \\\n",
       "671   Pirates of the Caribbean: On Stranger Tides        410600000.0   \n",
       "94                        Avengers: Age of Ultron        330600000.0   \n",
       "721                                    Robin Hood        309000000.0   \n",
       "469                                Justice League        300000000.0   \n",
       "95                         Avengers: Infinity War        300000000.0   \n",
       "800                                       Spectre        300000000.0   \n",
       "453                                   John Carter        275000000.0   \n",
       "903                         The Dark Knight Rises        275000000.0   \n",
       "790                       Solo: A Star Wars Story        275000000.0   \n",
       "1012                              The Lone Ranger        275000000.0   \n",
       "\n",
       "       total_gross  \n",
       "671   1.286764e+09  \n",
       "94    1.862014e+09  \n",
       "721   6.178064e+08  \n",
       "469   8.849452e+08  \n",
       "95    2.726934e+09  \n",
       "800   1.079721e+09  \n",
       "453   3.558781e+08  \n",
       "903   1.532539e+09  \n",
       "790   6.069513e+08  \n",
       "1012  3.493021e+08  "
      ]
     },
     "execution_count": 88,
     "metadata": {},
     "output_type": "execute_result"
    }
   ],
   "source": [
    "# Summing up the domestic and international gross to get the total gross\n",
    "merged_df_gross['total_gross'] = merged_df_gross['domestic_gross'] + merged_df_gross['international_gross']\n",
    "\n",
    "# Grouping by movie and calculating total production cost and total gross\n",
    "p_cost_gross_df = merged_df_gross.groupby('movie').agg(\n",
    "                    {'production_budget': 'sum', \n",
    "                     'total_gross': 'sum'}\n",
    "                  ).reset_index()\n",
    "# Sort by production_budget in descending order\n",
    "p_cost_gross_df = p_cost_gross_df.sort_values(by='production_budget', ascending=False)\n",
    "p_cost_gross_df.head(10)"
   ]
  },
  {
   "cell_type": "markdown",
   "metadata": {},
   "source": [
    "# Visualization of production cost to its total gross\n",
    "I used a line plot  and scatter plot to visualize the correlation between production_budget and total gross."
   ]
  },
  {
   "cell_type": "code",
   "execution_count": 89,
   "metadata": {},
   "outputs": [
    {
     "data": {
      "image/png": "[encoded data removed]",
      "text/plain": [
       "<Figure size 720x432 with 1 Axes>"
      ]
     },
     "metadata": {
      "needs_background": "light"
     },
     "output_type": "display_data"
    }
   ],
   "source": [
    "# Creating a new figure\n",
    "plt.figure(figsize=(10, 6))\n",
    "\n",
    "# Plotting the production budget against total gross as a line plot\n",
    "plt.plot(p_cost_gross_df['production_budget'], p_cost_gross_df['total_gross'], '-o')\n",
    "\n",
    "# Setting the x and y axis labels and title\n",
    "plt.xlabel('Production Budget (in hundred million dollars)')\n",
    "plt.ylabel('Total Gross (in billion dollars)')\n",
    "plt.title('Relationship between Production Budget and Total Gross')\n",
    "\n",
    "# Show the plot\n",
    "plt.show()"
   ]
  },
  {
   "cell_type": "code",
   "execution_count": 90,
   "metadata": {},
   "outputs": [
    {
     "data": {
      "image/png": "[encoded data removed]",
      "text/plain": [
       "<Figure size 720x432 with 1 Axes>"
      ]
     },
     "metadata": {
      "needs_background": "light"
     },
     "output_type": "display_data"
    }
   ],
   "source": [
    "# Creating a new figure\n",
    "plt.figure(figsize=(10, 6))\n",
    "\n",
    "# Plotting a scatter plot with production budget on the x-axis and total gross on the y-axis\n",
    "plt.scatter(p_cost_gross_df['production_budget'], p_cost_gross_df['total_gross'])\n",
    "\n",
    "# Add axis labels and title\n",
    "plt.xlabel('Production Budget (in hundred million dollars)')\n",
    "plt.ylabel('Total Gross (in billion dollars)')\n",
    "plt.title('Production Budget vs Total Gross')\n",
    "\n",
    "# Show the plot\n",
    "plt.show()"
   ]
  },
  {
   "cell_type": "code",
   "execution_count": 91,
   "metadata": {},
   "outputs": [
    {
     "name": "stdout",
     "output_type": "stream",
     "text": [
      "Correlation between production budget and total gross: 0.7689176866128671\n"
     ]
    }
   ],
   "source": [
    "# Calculating correlation between production budget and total gross\n",
    "corr_value = p_cost_gross_df['production_budget'].corr(p_cost_gross_df['total_gross'])\n",
    "print('Correlation between production budget and total gross:', corr_value)"
   ]
  },
  {
   "cell_type": "markdown",
   "metadata": {},
   "source": [
    "**Observation**"
   ]
  },
  {
   "cell_type": "code",
   "execution_count": 92,
   "metadata": {},
   "outputs": [
    {
     "data": {
      "text/plain": [
       "'\\nAs per the sactter plot, line plot and the correlation numerical value, there is a positive correlation between the production budget and the total gross. \\nThis indicates that movies with higher production budgets tend to have higher total gross revenues, meaning more box office success.\\nHowever, there are some outliers where movies with relatively lower production budgets have higher total gross revenues and those that have higher  production budgets with much lower gross revenues.\\n'"
      ]
     },
     "execution_count": 92,
     "metadata": {},
     "output_type": "execute_result"
    }
   ],
   "source": [
    "\"\"\"\n",
    "As per the sactter plot, line plot and the correlation numerical value, there is a positive correlation between the production budget and the total gross. \n",
    "This indicates that movies with higher production budgets tend to have higher total gross revenues, meaning more box office success.\n",
    "However, there are some outliers where movies with relatively lower production budgets have higher total gross revenues and those that have higher  production budgets with much lower gross revenues.\n",
    "\"\"\""
   ]
  },
  {
   "cell_type": "markdown",
   "metadata": {},
   "source": [
    "**4. INVESTIGATING THE RELATIONSHIP BETWEEN RATINGS & REVIEWS AND BOX OFFICE SUCCESS.**\n",
    "\n",
    "I used a scatter plot to investigate the relationship between box office gross and IMDB rating."
   ]
  },
  {
   "cell_type": "code",
   "execution_count": 93,
   "metadata": {},
   "outputs": [
    {
     "data": {
      "text/html": [
       "<div>\n",
       "<style scoped>\n",
       "    .dataframe tbody tr th:only-of-type {\n",
       "        vertical-align: middle;\n",
       "    }\n",
       "\n",
       "    .dataframe tbody tr th {\n",
       "        vertical-align: top;\n",
       "    }\n",
       "\n",
       "    .dataframe thead th {\n",
       "        text-align: right;\n",
       "    }\n",
       "</style>\n",
       "<table border=\"1\" class=\"dataframe\">\n",
       "  <thead>\n",
       "    <tr style=\"text-align: right;\">\n",
       "      <th></th>\n",
       "      <th>genre_ids</th>\n",
       "      <th>id</th>\n",
       "      <th>original_language</th>\n",
       "      <th>original_title</th>\n",
       "      <th>popularity</th>\n",
       "      <th>release_date</th>\n",
       "      <th>title</th>\n",
       "      <th>vote_average</th>\n",
       "      <th>vote_count</th>\n",
       "      <th>studio</th>\n",
       "      <th>domestic_gross</th>\n",
       "      <th>year</th>\n",
       "      <th>date</th>\n",
       "    </tr>\n",
       "  </thead>\n",
       "  <tbody>\n",
       "    <tr>\n",
       "      <th>0</th>\n",
       "      <td>[14, 12, 16, 10751]</td>\n",
       "      <td>10191</td>\n",
       "      <td>en</td>\n",
       "      <td>How to Train Your Dragon</td>\n",
       "      <td>28.734</td>\n",
       "      <td>2010-03-26</td>\n",
       "      <td>How to Train Your Dragon</td>\n",
       "      <td>7.7</td>\n",
       "      <td>7610</td>\n",
       "      <td>P/DW</td>\n",
       "      <td>217600000.0</td>\n",
       "      <td>2010</td>\n",
       "      <td>2010-11-14</td>\n",
       "    </tr>\n",
       "    <tr>\n",
       "      <th>1</th>\n",
       "      <td>[12, 28, 878]</td>\n",
       "      <td>10138</td>\n",
       "      <td>en</td>\n",
       "      <td>Iron Man 2</td>\n",
       "      <td>28.515</td>\n",
       "      <td>2010-05-07</td>\n",
       "      <td>Iron Man 2</td>\n",
       "      <td>6.8</td>\n",
       "      <td>12368</td>\n",
       "      <td>Par.</td>\n",
       "      <td>312400000.0</td>\n",
       "      <td>2010</td>\n",
       "      <td>2010-01-01</td>\n",
       "    </tr>\n",
       "    <tr>\n",
       "      <th>2</th>\n",
       "      <td>[28, 878, 12]</td>\n",
       "      <td>27205</td>\n",
       "      <td>en</td>\n",
       "      <td>Inception</td>\n",
       "      <td>27.920</td>\n",
       "      <td>2010-07-16</td>\n",
       "      <td>Inception</td>\n",
       "      <td>8.3</td>\n",
       "      <td>22186</td>\n",
       "      <td>WB</td>\n",
       "      <td>292600000.0</td>\n",
       "      <td>2010</td>\n",
       "      <td>2010-03-09</td>\n",
       "    </tr>\n",
       "    <tr>\n",
       "      <th>3</th>\n",
       "      <td>[16, 10751, 35]</td>\n",
       "      <td>10193</td>\n",
       "      <td>en</td>\n",
       "      <td>Toy Story 3</td>\n",
       "      <td>24.445</td>\n",
       "      <td>2010-06-17</td>\n",
       "      <td>Toy Story 3</td>\n",
       "      <td>7.7</td>\n",
       "      <td>8340</td>\n",
       "      <td>BV</td>\n",
       "      <td>415000000.0</td>\n",
       "      <td>2010</td>\n",
       "      <td>2010-09-12</td>\n",
       "    </tr>\n",
       "    <tr>\n",
       "      <th>4</th>\n",
       "      <td>[16, 10751, 35]</td>\n",
       "      <td>20352</td>\n",
       "      <td>en</td>\n",
       "      <td>Despicable Me</td>\n",
       "      <td>23.673</td>\n",
       "      <td>2010-07-09</td>\n",
       "      <td>Despicable Me</td>\n",
       "      <td>7.2</td>\n",
       "      <td>10057</td>\n",
       "      <td>Uni.</td>\n",
       "      <td>251500000.0</td>\n",
       "      <td>2010</td>\n",
       "      <td>2010-03-27</td>\n",
       "    </tr>\n",
       "  </tbody>\n",
       "</table>\n",
       "</div>"
      ],
      "text/plain": [
       "             genre_ids     id original_language            original_title  \\\n",
       "0  [14, 12, 16, 10751]  10191                en  How to Train Your Dragon   \n",
       "1        [12, 28, 878]  10138                en                Iron Man 2   \n",
       "2        [28, 878, 12]  27205                en                 Inception   \n",
       "3      [16, 10751, 35]  10193                en               Toy Story 3   \n",
       "4      [16, 10751, 35]  20352                en             Despicable Me   \n",
       "\n",
       "   popularity release_date                     title  vote_average  \\\n",
       "0      28.734   2010-03-26  How to Train Your Dragon           7.7   \n",
       "1      28.515   2010-05-07                Iron Man 2           6.8   \n",
       "2      27.920   2010-07-16                 Inception           8.3   \n",
       "3      24.445   2010-06-17               Toy Story 3           7.7   \n",
       "4      23.673   2010-07-09             Despicable Me           7.2   \n",
       "\n",
       "   vote_count studio  domestic_gross  year       date  \n",
       "0        7610   P/DW     217600000.0  2010 2010-11-14  \n",
       "1       12368   Par.     312400000.0  2010 2010-01-01  \n",
       "2       22186     WB     292600000.0  2010 2010-03-09  \n",
       "3        8340     BV     415000000.0  2010 2010-09-12  \n",
       "4       10057   Uni.     251500000.0  2010 2010-03-27  "
      ]
     },
     "execution_count": 93,
     "metadata": {},
     "output_type": "execute_result"
    }
   ],
   "source": [
    "# merging movies_df and bom_df dataframes on the movie title.\n",
    "merged_df = pd.merge(movies_df, bom_df, on='title')\n",
    "merged_df.head()"
   ]
  },
  {
   "cell_type": "code",
   "execution_count": 94,
   "metadata": {},
   "outputs": [
    {
     "data": {
      "image/png": "[encoded data removed]",
      "text/plain": [
       "<Figure size 720x432 with 1 Axes>"
      ]
     },
     "metadata": {
      "needs_background": "light"
     },
     "output_type": "display_data"
    }
   ],
   "source": [
    "# Creating a new figure\n",
    "plt.figure(figsize=(10, 6))\n",
    "plt.scatter(merged_df['vote_average'], merged_df['domestic_gross'])\n",
    "plt.xlabel('IMDb Rating')\n",
    "plt.ylabel('Box Office Gross')\n",
    "plt.show()"
   ]
  },
  {
   "cell_type": "code",
   "execution_count": 95,
   "metadata": {},
   "outputs": [
    {
     "data": {
      "text/plain": [
       "0.13594678897529894"
      ]
     },
     "execution_count": 95,
     "metadata": {},
     "output_type": "execute_result"
    }
   ],
   "source": [
    "merged_df['vote_average'].corr(merged_df['domestic_gross'])"
   ]
  },
  {
   "cell_type": "markdown",
   "metadata": {},
   "source": [
    "**Observation**"
   ]
  },
  {
   "cell_type": "code",
   "execution_count": 96,
   "metadata": {},
   "outputs": [
    {
     "data": {
      "text/plain": [
       "' There is a weak positive correlation between IMDb ratings and box office gross. \\nHowever, there are also many movies with high ratings but relatively low box office gross, and vice versa. \\nTherefore, while ratings can be an indicator of box office success, they are not the only factor.\\n'"
      ]
     },
     "execution_count": 96,
     "metadata": {},
     "output_type": "execute_result"
    }
   ],
   "source": [
    "\"\"\" There is a weak positive correlation between IMDb ratings and box office gross. \n",
    "However, there are also many movies with high ratings but relatively low box office gross, and vice versa. \n",
    "Therefore, while ratings can be an indicator of box office success, they are not the only factor.\n",
    "\"\"\""
   ]
  },
  {
   "cell_type": "markdown",
   "metadata": {},
   "source": [
    "**I also used a scatter plot to investigate the relationship between average rating and box office success**"
   ]
  },
  {
   "cell_type": "code",
   "execution_count": 97,
   "metadata": {},
   "outputs": [
    {
     "data": {
      "text/html": [
       "<div>\n",
       "<style scoped>\n",
       "    .dataframe tbody tr th:only-of-type {\n",
       "        vertical-align: middle;\n",
       "    }\n",
       "\n",
       "    .dataframe tbody tr th {\n",
       "        vertical-align: top;\n",
       "    }\n",
       "\n",
       "    .dataframe thead th {\n",
       "        text-align: right;\n",
       "    }\n",
       "</style>\n",
       "<table border=\"1\" class=\"dataframe\">\n",
       "  <thead>\n",
       "    <tr style=\"text-align: right;\">\n",
       "      <th></th>\n",
       "      <th>movie_id</th>\n",
       "      <th>ordering</th>\n",
       "      <th>title</th>\n",
       "      <th>region</th>\n",
       "      <th>language</th>\n",
       "      <th>types</th>\n",
       "      <th>attributes</th>\n",
       "      <th>is_original_title</th>\n",
       "    </tr>\n",
       "  </thead>\n",
       "  <tbody>\n",
       "    <tr>\n",
       "      <th>0</th>\n",
       "      <td>tt0369610</td>\n",
       "      <td>10</td>\n",
       "      <td>Джурасик свят</td>\n",
       "      <td>BG</td>\n",
       "      <td>bg</td>\n",
       "      <td>None</td>\n",
       "      <td>None</td>\n",
       "      <td>0.0</td>\n",
       "    </tr>\n",
       "    <tr>\n",
       "      <th>1</th>\n",
       "      <td>tt0369610</td>\n",
       "      <td>11</td>\n",
       "      <td>Jurashikku warudo</td>\n",
       "      <td>JP</td>\n",
       "      <td>None</td>\n",
       "      <td>imdbDisplay</td>\n",
       "      <td>None</td>\n",
       "      <td>0.0</td>\n",
       "    </tr>\n",
       "    <tr>\n",
       "      <th>2</th>\n",
       "      <td>tt0369610</td>\n",
       "      <td>12</td>\n",
       "      <td>Jurassic World: O Mundo dos Dinossauros</td>\n",
       "      <td>BR</td>\n",
       "      <td>None</td>\n",
       "      <td>imdbDisplay</td>\n",
       "      <td>None</td>\n",
       "      <td>0.0</td>\n",
       "    </tr>\n",
       "    <tr>\n",
       "      <th>3</th>\n",
       "      <td>tt0369610</td>\n",
       "      <td>13</td>\n",
       "      <td>O Mundo dos Dinossauros</td>\n",
       "      <td>BR</td>\n",
       "      <td>None</td>\n",
       "      <td>None</td>\n",
       "      <td>short title</td>\n",
       "      <td>0.0</td>\n",
       "    </tr>\n",
       "    <tr>\n",
       "      <th>4</th>\n",
       "      <td>tt0369610</td>\n",
       "      <td>14</td>\n",
       "      <td>Jurassic World</td>\n",
       "      <td>FR</td>\n",
       "      <td>None</td>\n",
       "      <td>imdbDisplay</td>\n",
       "      <td>None</td>\n",
       "      <td>0.0</td>\n",
       "    </tr>\n",
       "  </tbody>\n",
       "</table>\n",
       "</div>"
      ],
      "text/plain": [
       "    movie_id  ordering                                    title region  \\\n",
       "0  tt0369610        10                            Джурасик свят     BG   \n",
       "1  tt0369610        11                        Jurashikku warudo     JP   \n",
       "2  tt0369610        12  Jurassic World: O Mundo dos Dinossauros     BR   \n",
       "3  tt0369610        13                  O Mundo dos Dinossauros     BR   \n",
       "4  tt0369610        14                           Jurassic World     FR   \n",
       "\n",
       "  language        types   attributes  is_original_title  \n",
       "0       bg         None         None                0.0  \n",
       "1     None  imdbDisplay         None                0.0  \n",
       "2     None  imdbDisplay         None                0.0  \n",
       "3     None         None  short title                0.0  \n",
       "4     None  imdbDisplay         None                0.0  "
      ]
     },
     "execution_count": 97,
     "metadata": {},
     "output_type": "execute_result"
    }
   ],
   "source": [
    "#loading the relevant tables into pandas dataframes:\n",
    "imdb_title_ratings = pd.read_sql_query(\"SELECT * from movie_ratings\", conn)\n",
    "imdb_title_aka = pd.read_sql_query(\"SELECT * from movie_akas\", conn)\n",
    "#imdb_title_ratings.head()\n",
    "imdb_title_aka.head(5)"
   ]
  },
  {
   "cell_type": "code",
   "execution_count": 98,
   "metadata": {},
   "outputs": [
    {
     "data": {
      "text/html": [
       "<div>\n",
       "<style scoped>\n",
       "    .dataframe tbody tr th:only-of-type {\n",
       "        vertical-align: middle;\n",
       "    }\n",
       "\n",
       "    .dataframe tbody tr th {\n",
       "        vertical-align: top;\n",
       "    }\n",
       "\n",
       "    .dataframe thead th {\n",
       "        text-align: right;\n",
       "    }\n",
       "</style>\n",
       "<table border=\"1\" class=\"dataframe\">\n",
       "  <thead>\n",
       "    <tr style=\"text-align: right;\">\n",
       "      <th></th>\n",
       "      <th>movie_id</th>\n",
       "      <th>averagerating</th>\n",
       "      <th>numvotes</th>\n",
       "      <th>ordering</th>\n",
       "      <th>title</th>\n",
       "      <th>region</th>\n",
       "      <th>language</th>\n",
       "      <th>types</th>\n",
       "      <th>attributes</th>\n",
       "      <th>is_original_title</th>\n",
       "    </tr>\n",
       "  </thead>\n",
       "  <tbody>\n",
       "    <tr>\n",
       "      <th>0</th>\n",
       "      <td>tt1042974</td>\n",
       "      <td>6.4</td>\n",
       "      <td>20</td>\n",
       "      <td>1</td>\n",
       "      <td>Just Inès</td>\n",
       "      <td>None</td>\n",
       "      <td>None</td>\n",
       "      <td>original</td>\n",
       "      <td>None</td>\n",
       "      <td>1.0</td>\n",
       "    </tr>\n",
       "    <tr>\n",
       "      <th>1</th>\n",
       "      <td>tt1042974</td>\n",
       "      <td>6.4</td>\n",
       "      <td>20</td>\n",
       "      <td>2</td>\n",
       "      <td>Samo Ines</td>\n",
       "      <td>RS</td>\n",
       "      <td>None</td>\n",
       "      <td>imdbDisplay</td>\n",
       "      <td>None</td>\n",
       "      <td>0.0</td>\n",
       "    </tr>\n",
       "    <tr>\n",
       "      <th>2</th>\n",
       "      <td>tt1042974</td>\n",
       "      <td>6.4</td>\n",
       "      <td>20</td>\n",
       "      <td>3</td>\n",
       "      <td>Just Inès</td>\n",
       "      <td>GB</td>\n",
       "      <td>None</td>\n",
       "      <td>None</td>\n",
       "      <td>None</td>\n",
       "      <td>0.0</td>\n",
       "    </tr>\n",
       "    <tr>\n",
       "      <th>3</th>\n",
       "      <td>tt1043726</td>\n",
       "      <td>4.2</td>\n",
       "      <td>50352</td>\n",
       "      <td>10</td>\n",
       "      <td>The Legend of Hercules</td>\n",
       "      <td>None</td>\n",
       "      <td>None</td>\n",
       "      <td>original</td>\n",
       "      <td>None</td>\n",
       "      <td>1.0</td>\n",
       "    </tr>\n",
       "    <tr>\n",
       "      <th>4</th>\n",
       "      <td>tt1043726</td>\n",
       "      <td>4.2</td>\n",
       "      <td>50352</td>\n",
       "      <td>11</td>\n",
       "      <td>Hércules - A Lenda Começa</td>\n",
       "      <td>PT</td>\n",
       "      <td>None</td>\n",
       "      <td>imdbDisplay</td>\n",
       "      <td>None</td>\n",
       "      <td>0.0</td>\n",
       "    </tr>\n",
       "  </tbody>\n",
       "</table>\n",
       "</div>"
      ],
      "text/plain": [
       "    movie_id  averagerating  numvotes  ordering                      title  \\\n",
       "0  tt1042974            6.4        20         1                  Just Inès   \n",
       "1  tt1042974            6.4        20         2                  Samo Ines   \n",
       "2  tt1042974            6.4        20         3                  Just Inès   \n",
       "3  tt1043726            4.2     50352        10     The Legend of Hercules   \n",
       "4  tt1043726            4.2     50352        11  Hércules - A Lenda Começa   \n",
       "\n",
       "  region language        types attributes  is_original_title  \n",
       "0   None     None     original       None                1.0  \n",
       "1     RS     None  imdbDisplay       None                0.0  \n",
       "2     GB     None         None       None                0.0  \n",
       "3   None     None     original       None                1.0  \n",
       "4     PT     None  imdbDisplay       None                0.0  "
      ]
     },
     "execution_count": 98,
     "metadata": {},
     "output_type": "execute_result"
    }
   ],
   "source": [
    "#merging the necessary tables to get a complete dataset:\n",
    "merged_imdb_df = pd.merge(imdb_title_ratings, imdb_title_aka, on='movie_id', how='inner')\n",
    "merged_imdb_df.head()"
   ]
  },
  {
   "cell_type": "code",
   "execution_count": 99,
   "metadata": {},
   "outputs": [
    {
     "data": {
      "text/html": [
       "<div>\n",
       "<style scoped>\n",
       "    .dataframe tbody tr th:only-of-type {\n",
       "        vertical-align: middle;\n",
       "    }\n",
       "\n",
       "    .dataframe tbody tr th {\n",
       "        vertical-align: top;\n",
       "    }\n",
       "\n",
       "    .dataframe thead th {\n",
       "        text-align: right;\n",
       "    }\n",
       "</style>\n",
       "<table border=\"1\" class=\"dataframe\">\n",
       "  <thead>\n",
       "    <tr style=\"text-align: right;\">\n",
       "      <th></th>\n",
       "      <th>averagerating</th>\n",
       "      <th>numvotes</th>\n",
       "      <th>total_gross</th>\n",
       "    </tr>\n",
       "    <tr>\n",
       "      <th>movie</th>\n",
       "      <th></th>\n",
       "      <th></th>\n",
       "      <th></th>\n",
       "    </tr>\n",
       "  </thead>\n",
       "  <tbody>\n",
       "    <tr>\n",
       "      <th>Iron Man 3</th>\n",
       "      <td>7.200000</td>\n",
       "      <td>15934262</td>\n",
       "      <td>3.736084e+10</td>\n",
       "    </tr>\n",
       "    <tr>\n",
       "      <th>Avengers: Infinity War</th>\n",
       "      <td>8.500000</td>\n",
       "      <td>8722038</td>\n",
       "      <td>3.545035e+10</td>\n",
       "    </tr>\n",
       "    <tr>\n",
       "      <th>Jurassic World</th>\n",
       "      <td>7.000000</td>\n",
       "      <td>7550732</td>\n",
       "      <td>3.221576e+10</td>\n",
       "    </tr>\n",
       "    <tr>\n",
       "      <th>Frozen</th>\n",
       "      <td>6.457895</td>\n",
       "      <td>3332872</td>\n",
       "      <td>3.179095e+10</td>\n",
       "    </tr>\n",
       "    <tr>\n",
       "      <th>Aladdin</th>\n",
       "      <td>7.344444</td>\n",
       "      <td>1956982</td>\n",
       "      <td>2.857264e+10</td>\n",
       "    </tr>\n",
       "    <tr>\n",
       "      <th>Deadpool</th>\n",
       "      <td>8.000000</td>\n",
       "      <td>19700328</td>\n",
       "      <td>2.793831e+10</td>\n",
       "    </tr>\n",
       "    <tr>\n",
       "      <th>Black Panther</th>\n",
       "      <td>7.215385</td>\n",
       "      <td>6193847</td>\n",
       "      <td>2.662813e+10</td>\n",
       "    </tr>\n",
       "    <tr>\n",
       "      <th>Skyfall</th>\n",
       "      <td>7.800000</td>\n",
       "      <td>10067757</td>\n",
       "      <td>2.405308e+10</td>\n",
       "    </tr>\n",
       "    <tr>\n",
       "      <th>Aquaman</th>\n",
       "      <td>7.100000</td>\n",
       "      <td>4213248</td>\n",
       "      <td>2.371130e+10</td>\n",
       "    </tr>\n",
       "    <tr>\n",
       "      <th>Godzilla</th>\n",
       "      <td>6.410526</td>\n",
       "      <td>11306854</td>\n",
       "      <td>2.359926e+10</td>\n",
       "    </tr>\n",
       "  </tbody>\n",
       "</table>\n",
       "</div>"
      ],
      "text/plain": [
       "                        averagerating  numvotes   total_gross\n",
       "movie                                                        \n",
       "Iron Man 3                   7.200000  15934262  3.736084e+10\n",
       "Avengers: Infinity War       8.500000   8722038  3.545035e+10\n",
       "Jurassic World               7.000000   7550732  3.221576e+10\n",
       "Frozen                       6.457895   3332872  3.179095e+10\n",
       "Aladdin                      7.344444   1956982  2.857264e+10\n",
       "Deadpool                     8.000000  19700328  2.793831e+10\n",
       "Black Panther                7.215385   6193847  2.662813e+10\n",
       "Skyfall                      7.800000  10067757  2.405308e+10\n",
       "Aquaman                      7.100000   4213248  2.371130e+10\n",
       "Godzilla                     6.410526  11306854  2.359926e+10"
      ]
     },
     "execution_count": 99,
     "metadata": {},
     "output_type": "execute_result"
    }
   ],
   "source": [
    "# Merging merged_imdb_df dataframe with the budgets_df dataframe:\n",
    "merged_df_budgets_imdb = pd.merge(merged_imdb_df, budgets_df, left_on='title', right_on='movie', how='inner')\n",
    "# Calculating total gross\n",
    "merged_df_budgets_imdb['total_gross'] = merged_df_budgets_imdb['domestic_gross'] + merged_df_budgets_imdb['worldwide_gross']\n",
    "# Grouping the dataset and sorting by total gross in descending order\n",
    "grouped_df_budgets_imdb = merged_df_budgets_imdb.groupby('movie').agg(\n",
    "                {'averagerating': 'mean', \n",
    "                 'numvotes': 'sum', \n",
    "                 'total_gross': 'sum'}\n",
    "             ).sort_values(by='total_gross', ascending=False)\n",
    "grouped_df_budgets_imdb.head(10)"
   ]
  },
  {
   "cell_type": "code",
   "execution_count": 100,
   "metadata": {},
   "outputs": [
    {
     "data": {
      "image/png": "[encoded data removed]",
      "text/plain": [
       "<Figure size 720x432 with 1 Axes>"
      ]
     },
     "metadata": {
      "needs_background": "light"
     },
     "output_type": "display_data"
    }
   ],
   "source": [
    "# Creating a new figure\n",
    "plt.figure(figsize=(10, 6))\n",
    "plt.scatter(grouped_df_budgets_imdb['total_gross'], grouped_df_budgets_imdb['averagerating'], s=50, alpha=0.7, c='green')\n",
    "\n",
    "# Adding axis labels and title\n",
    "plt.xlabel('Average Rating')\n",
    "plt.ylabel('Total Gross (in billion dollars)')\n",
    "plt.title('Relationship Between Ratings and Box Office Success')\n",
    "\n",
    "# Show plot\n",
    "plt.show()"
   ]
  },
  {
   "cell_type": "code",
   "execution_count": 101,
   "metadata": {},
   "outputs": [
    {
     "data": {
      "text/plain": [
       "0.19994912838476026"
      ]
     },
     "execution_count": 101,
     "metadata": {},
     "output_type": "execute_result"
    }
   ],
   "source": [
    "grouped_df_budgets_imdb['averagerating'].corr(grouped_df_budgets_imdb['total_gross'])"
   ]
  },
  {
   "cell_type": "markdown",
   "metadata": {},
   "source": [
    "**Observation**"
   ]
  },
  {
   "cell_type": "code",
   "execution_count": 102,
   "metadata": {},
   "outputs": [
    {
     "data": {
      "text/plain": [
       "'The scatter plot shows a weak positive relationship between the average ratings and the total gross revenue for movies. \\nWhile there is a postive relationship, there are still many movies with high ratings but relatively low gross revenue and vice versa.\\n'"
      ]
     },
     "execution_count": 102,
     "metadata": {},
     "output_type": "execute_result"
    }
   ],
   "source": [
    "\"\"\"The scatter plot shows a weak positive relationship between the average ratings and the total gross revenue for movies. \n",
    "While there is a postive relationship, there are still many movies with high ratings but relatively low gross revenue and vice versa.\n",
    "\"\"\""
   ]
  },
  {
   "cell_type": "markdown",
   "metadata": {},
   "source": [
    "**I used another scatter plot to show the relationship between fresh reviews and gross revenue**"
   ]
  },
  {
   "cell_type": "code",
   "execution_count": 103,
   "metadata": {},
   "outputs": [
    {
     "data": {
      "text/html": [
       "<div>\n",
       "<style scoped>\n",
       "    .dataframe tbody tr th:only-of-type {\n",
       "        vertical-align: middle;\n",
       "    }\n",
       "\n",
       "    .dataframe tbody tr th {\n",
       "        vertical-align: top;\n",
       "    }\n",
       "\n",
       "    .dataframe thead th {\n",
       "        text-align: right;\n",
       "    }\n",
       "</style>\n",
       "<table border=\"1\" class=\"dataframe\">\n",
       "  <thead>\n",
       "    <tr style=\"text-align: right;\">\n",
       "      <th></th>\n",
       "      <th>total_gross</th>\n",
       "      <th>fresh</th>\n",
       "    </tr>\n",
       "    <tr>\n",
       "      <th>title</th>\n",
       "      <th></th>\n",
       "      <th></th>\n",
       "    </tr>\n",
       "  </thead>\n",
       "  <tbody>\n",
       "    <tr>\n",
       "      <th>Skyfall</th>\n",
       "      <td>5.518215e+10</td>\n",
       "      <td>0.948718</td>\n",
       "    </tr>\n",
       "    <tr>\n",
       "      <th>The Hobbit: An Unexpected Journey</th>\n",
       "      <td>5.280014e+10</td>\n",
       "      <td>0.600000</td>\n",
       "    </tr>\n",
       "    <tr>\n",
       "      <th>Black Panther</th>\n",
       "      <td>4.916060e+10</td>\n",
       "      <td>0.666667</td>\n",
       "    </tr>\n",
       "    <tr>\n",
       "      <th>Zootopia</th>\n",
       "      <td>4.762554e+10</td>\n",
       "      <td>0.657143</td>\n",
       "    </tr>\n",
       "    <tr>\n",
       "      <th>Toy Story 3</th>\n",
       "      <td>4.451639e+10</td>\n",
       "      <td>0.200000</td>\n",
       "    </tr>\n",
       "    <tr>\n",
       "      <th>Maleficent</th>\n",
       "      <td>3.999747e+10</td>\n",
       "      <td>0.325000</td>\n",
       "    </tr>\n",
       "    <tr>\n",
       "      <th>Guardians of the Galaxy</th>\n",
       "      <td>3.422609e+10</td>\n",
       "      <td>0.516129</td>\n",
       "    </tr>\n",
       "    <tr>\n",
       "      <th>Fast Five</th>\n",
       "      <td>2.939872e+10</td>\n",
       "      <td>0.771429</td>\n",
       "    </tr>\n",
       "    <tr>\n",
       "      <th>The Hobbit: The Desolation of Smaug</th>\n",
       "      <td>2.437534e+10</td>\n",
       "      <td>0.900000</td>\n",
       "    </tr>\n",
       "    <tr>\n",
       "      <th>The Expendables</th>\n",
       "      <td>2.413893e+10</td>\n",
       "      <td>0.415385</td>\n",
       "    </tr>\n",
       "  </tbody>\n",
       "</table>\n",
       "</div>"
      ],
      "text/plain": [
       "                                      total_gross     fresh\n",
       "title                                                      \n",
       "Skyfall                              5.518215e+10  0.948718\n",
       "The Hobbit: An Unexpected Journey    5.280014e+10  0.600000\n",
       "Black Panther                        4.916060e+10  0.666667\n",
       "Zootopia                             4.762554e+10  0.657143\n",
       "Toy Story 3                          4.451639e+10  0.200000\n",
       "Maleficent                           3.999747e+10  0.325000\n",
       "Guardians of the Galaxy              3.422609e+10  0.516129\n",
       "Fast Five                            2.939872e+10  0.771429\n",
       "The Hobbit: The Desolation of Smaug  2.437534e+10  0.900000\n",
       "The Expendables                      2.413893e+10  0.415385"
      ]
     },
     "execution_count": 103,
     "metadata": {},
     "output_type": "execute_result"
    }
   ],
   "source": [
    "# Merging the merged_df_gross and rt_reviews_df datasets\n",
    "merged_df_gross_reviews = pd.merge(merged_df_gross, rt_reviews_df, left_on='release_date', right_on='date', how='inner')\n",
    "# Calculating the mean of fresh ratings for each movie\n",
    "grouped_df_gross_reviews = merged_df_gross_reviews.groupby('title').agg({'total_gross': 'sum', \n",
    "                                                                         'fresh': 'mean'\n",
    "                                                                        }).sort_values(by='total_gross', ascending=False)\n",
    "grouped_df_gross_reviews.head(10)"
   ]
  },
  {
   "cell_type": "code",
   "execution_count": 104,
   "metadata": {},
   "outputs": [
    {
     "data": {
      "image/png": "[encoded data removed]",
      "text/plain": [
       "<Figure size 720x432 with 1 Axes>"
      ]
     },
     "metadata": {
      "needs_background": "light"
     },
     "output_type": "display_data"
    }
   ],
   "source": [
    "# Creating a scatter plot\n",
    "plt.figure(figsize=(10, 6))\n",
    "plt.scatter(grouped_df_gross_reviews['fresh'], grouped_df_gross_reviews['total_gross'])\n",
    "\n",
    "# Adding axis labels and title\n",
    "plt.xlabel('Mean of fresh reviews')\n",
    "plt.ylabel('Total Gross Revenue')\n",
    "plt.title('Relationship between Fresh Ratings and Total Gross Revenue')\n",
    "\n",
    "# Displaying the plot\n",
    "plt.show()"
   ]
  },
  {
   "cell_type": "code",
   "execution_count": 105,
   "metadata": {},
   "outputs": [
    {
     "data": {
      "text/plain": [
       "0.026239609325835033"
      ]
     },
     "execution_count": 105,
     "metadata": {},
     "output_type": "execute_result"
    }
   ],
   "source": [
    "merged_df_gross_reviews['fresh'].corr(merged_df_gross_reviews['total_gross'])"
   ]
  },
  {
   "cell_type": "code",
   "execution_count": 106,
   "metadata": {},
   "outputs": [
    {
     "data": {
      "text/plain": [
       "'There is a weak positive correlation between fresh ratings and total gross revenue. This means that movies with higher fresh ratings tend to have slightly higher total gross revenue, but the relationship is not very strong.\\n'"
      ]
     },
     "execution_count": 106,
     "metadata": {},
     "output_type": "execute_result"
    }
   ],
   "source": [
    " \"\"\"There is a weak positive correlation between fresh ratings and total gross revenue. This means that movies with higher fresh ratings tend to have slightly higher total gross revenue, but the relationship is not very strong.\n",
    " \"\"\""
   ]
  },
  {
   "cell_type": "markdown",
   "metadata": {},
   "source": [
    "**I also decided to create a bar graph to visualize total gross to fresh reviews**"
   ]
  },
  {
   "cell_type": "code",
   "execution_count": 107,
   "metadata": {},
   "outputs": [
    {
     "data": {
      "image/png": "[encoded data removed]",
      "text/plain": [
       "<Figure size 432x288 with 1 Axes>"
      ]
     },
     "metadata": {
      "needs_background": "light"
     },
     "output_type": "display_data"
    }
   ],
   "source": [
    "# Subset the data to include only movies with fresh reviews\n",
    "fresh_movies = grouped_df_gross_reviews[grouped_df_gross_reviews['fresh'] == True]\n",
    "\n",
    "# Calculate the total gross for fresh movies\n",
    "fresh_gross = fresh_movies['total_gross'].sum()\n",
    "\n",
    "# Calculate the total gross for not fresh movies\n",
    "not_fresh_movies = grouped_df_gross_reviews[grouped_df_gross_reviews['fresh'] == False]\n",
    "not_fresh_gross = not_fresh_movies['total_gross'].sum()\n",
    "\n",
    "# Create a bar chart\n",
    "plt.bar(['Fresh', 'Not Fresh'], [fresh_gross, not_fresh_gross])\n",
    "plt.title('Total Gross Revenue by Fresh Reviews')\n",
    "plt.ylabel('Total Gross Revenue (Billions of Dollars)')\n",
    "plt.show()"
   ]
  },
  {
   "cell_type": "markdown",
   "metadata": {},
   "source": [
    "**OBSERVATION**"
   ]
  },
  {
   "cell_type": "code",
   "execution_count": 108,
   "metadata": {},
   "outputs": [
    {
     "data": {
      "text/plain": [
       "\" Based on this bar chart visualization, movies that have fresh reviews have a higher total gross revenue than those without fresh reviews. This suggests that positive critical reception has a positive impact on the movie's box office success.\\n\""
      ]
     },
     "execution_count": 108,
     "metadata": {},
     "output_type": "execute_result"
    }
   ],
   "source": [
    "\"\"\" Based on this bar chart visualization, movies that have fresh reviews have a higher total gross revenue than those without fresh reviews. This suggests that positive critical reception has a positive impact on the movie's box office success.\n",
    "\"\"\""
   ]
  },
  {
   "cell_type": "markdown",
   "metadata": {},
   "source": [
    "# RECOMMENDATIONS\n",
    "\n",
    "My analysis led to four recommendations useful for the inception of Microsoft's new movie studio:\n",
    "\n",
    "1. For Microsoft to succeed in the movie industry, they should seek to emulate the top 10 highest grossing studios through research and/or benchmarking or seek to partner with them.\n",
    "2. There should be focus on producing drama, comedy, comedy|Drama and Drama|Mystery|Suspense genres as they are the most successful genres in terms of gross revenue.\n",
    "3. Even though there are a few outliers in the production cost to total revenue visualization, Microsoft should invest in the film's production cost.This is because the movie industry is highly competitive and a larger budget often leads to better production which will lead to great reception and ultimately more box office success.\n",
    "4. Microsoft's new movie studio should prioritize producing high-quality movies that receive positive reviews from critics and high ratings from the general audience because this will increase the likelihood of the films' financial success."
   ]
  },
  {
   "cell_type": "markdown",
   "metadata": {},
   "source": [
    "# NEXT STEPS\n",
    "\n",
    "The movie industry is ever changing, so to stay up-to-date with the latest trends and insights, the further analysis below could be useful:\n",
    "\n",
    "1. Analyze trends over time to provide valuable insights into which genres are growing or declining in popularity.\n",
    "2. Look into the impact of streaming services in the movie industry.\n",
    "3. Investigate the impact of marketing on box office success.\n",
    "4. Analyze the success rate of sequels and franchises, originals and remakes."
   ]
  },
  {
   "cell_type": "code",
   "execution_count": null,
   "metadata": {},
   "outputs": [],
   "source": []
  }
 ],
 "metadata": {
  "kernelspec": {
   "display_name": "Python 3",
   "language": "python",
   "name": "python3"
  },
  "language_info": {
   "codemirror_mode": {
    "name": "ipython",
    "version": 3
   },
   "file_extension": ".py",
   "mimetype": "text/x-python",
   "name": "python",
   "nbconvert_exporter": "python",
   "pygments_lexer": "ipython3",
   "version": "3.8.5"
  }
 },
 "nbformat": 4,
 "nbformat_minor": 2
}
